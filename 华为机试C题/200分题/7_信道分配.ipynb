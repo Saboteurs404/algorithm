{
 "cells": [
  {
   "cell_type": "markdown",
   "source": [
    "![](./image/7_1.png)\n",
    "![](./image/7_2.png)\n",
    "![](./image/7_3.png)\n",
    "![](./image/7_4.png)"
   ],
   "metadata": {
    "collapsed": false
   }
  },
  {
   "cell_type": "code",
   "execution_count": 9,
   "metadata": {
    "collapsed": true
   },
   "outputs": [
    {
     "name": "stdout",
     "output_type": "stream",
     "text": [
      "[0, 1, 1, 1, 1]\n",
      "2\n",
      "result:4\n"
     ]
    }
   ],
   "source": [
    "from functools import reduce\n",
    "# 判断总和是否满足\n",
    "def sum_channels(channels):\n",
    "    for idx, val in enumerate(channels):\n",
    "        sum_nums = val*pow(2,idx)\n",
    "    return sum_nums\n",
    "\n",
    "\n",
    "def dispose(channels,bit_nums):\n",
    "    # 从高阶到低阶判断\n",
    "    for i in reversed(range(len(bit_nums))):\n",
    "        if channels[i] >= bit_nums[i]:\n",
    "            # 满足则减去所需的信道数\n",
    "            channels[i] -= bit_nums[i]\n",
    "        # 不满足不代表高阶信道没有\n",
    "        else:\n",
    "            # 首先判断低阶通道总和是否满足条件\n",
    "            if sum_channels(channels[:i+1]) < sum_channels(bit_nums[:i+1]):\n",
    "                # 总和不满足则向高阶借一位\n",
    "                for j in range(i+1,len(bit_nums)):\n",
    "                    if channels[j+1]:\n",
    "                        channels[j+1] -= 1\n",
    "                        return True\n",
    "                # 如果高阶无法满足则返回false\n",
    "                return False\n",
    "            # 满足\n",
    "            else:\n",
    "                # 此时Channel[i] 位负\n",
    "                channels[i] -= bit_nums[i]\n",
    "                if i > 0:\n",
    "                    channels[i-1] += channels[i]\n",
    "                else:\n",
    "                    return False\n",
    "                channels[i] = 0\n",
    "    return True\n",
    "\n",
    "\n",
    "\n",
    "if __name__ == '__main__':\n",
    "    # 阶数：\n",
    "    degree = 5\n",
    "    # 通道数\n",
    "    channels = [10,5,0,1,3,2]\n",
    "    # 需要的数据量\n",
    "    nums = 30\n",
    "    # 设置全局变量\n",
    "    global result\n",
    "    result = 0\n",
    "\n",
    "    # 将需要的数据量以二进制形式表示\n",
    "    bit_nums = list(map(int,str(bin(nums))[2:]))[::-1]\n",
    "    print(bit_nums)\n",
    "    # 将大的通道数直接加进去\n",
    "    for i in range(len(bit_nums),len(channels)):\n",
    "        result += channels[i]\n",
    "    print(result)\n",
    "\n",
    "    # 设置当前的通道数\n",
    "    current_channels = channels[:len(bit_nums)]\n",
    "\n",
    "    # 判断返回值是否满足条件\n",
    "    while dispose(channels,bit_nums):\n",
    "        result += 1\n",
    "    print(f'result:{result}')\n",
    "\n",
    "    # for i in range(degree+1):\n",
    "    #     # 把通道数为0的删除\n",
    "    #     if channels[i] == 0:\n",
    "    #         continue\n",
    "    #     else:\n",
    "    #         bits[2**i] = channels[i]\n",
    "    # dispose(bits,nums)\n",
    "    # print(bits)\n"
   ]
  },
  {
   "cell_type": "code",
   "execution_count": null,
   "outputs": [],
   "source": [],
   "metadata": {
    "collapsed": false
   }
  },
  {
   "cell_type": "code",
   "execution_count": 3,
   "outputs": [
    {
     "name": "stdout",
     "output_type": "stream",
     "text": [
      "0b11110\n",
      "[0, 1, 1, 1, 1]\n"
     ]
    },
    {
     "ename": "KeyboardInterrupt",
     "evalue": "",
     "output_type": "error",
     "traceback": [
      "\u001B[1;31m---------------------------------------------------------------------------\u001B[0m",
      "\u001B[1;31mKeyboardInterrupt\u001B[0m                         Traceback (most recent call last)",
      "Cell \u001B[1;32mIn[3], line 48\u001B[0m\n\u001B[0;32m     46\u001B[0m requirement_bits \u001B[38;5;241m=\u001B[39m \u001B[38;5;28mlist\u001B[39m(\u001B[38;5;28mmap\u001B[39m(\u001B[38;5;28mint\u001B[39m, \u001B[38;5;28mstr\u001B[39m(\u001B[38;5;28mbin\u001B[39m(data_need))[\u001B[38;5;241m2\u001B[39m:]))[::\u001B[38;5;241m-\u001B[39m\u001B[38;5;241m1\u001B[39m]\n\u001B[0;32m     47\u001B[0m \u001B[38;5;28mprint\u001B[39m(requirement_bits)\n\u001B[1;32m---> 48\u001B[0m users_served \u001B[38;5;241m=\u001B[39m \u001B[38;5;241m0\u001B[39m  \u001B[38;5;66;03m# 初始化能服务的用户数\u001B[39;00m\n\u001B[0;32m     49\u001B[0m \u001B[38;5;66;03m# 对超出需求位长度的高阶信道，直接累加其数量至能服务的用户数\u001B[39;00m\n\u001B[0;32m     50\u001B[0m \u001B[38;5;28;01mfor\u001B[39;00m i \u001B[38;5;129;01min\u001B[39;00m \u001B[38;5;28mrange\u001B[39m(\u001B[38;5;28mlen\u001B[39m(requirement_bits), max_level \u001B[38;5;241m+\u001B[39m \u001B[38;5;241m1\u001B[39m):\n",
      "Cell \u001B[1;32mIn[3], line 48\u001B[0m\n\u001B[0;32m     46\u001B[0m requirement_bits \u001B[38;5;241m=\u001B[39m \u001B[38;5;28mlist\u001B[39m(\u001B[38;5;28mmap\u001B[39m(\u001B[38;5;28mint\u001B[39m, \u001B[38;5;28mstr\u001B[39m(\u001B[38;5;28mbin\u001B[39m(data_need))[\u001B[38;5;241m2\u001B[39m:]))[::\u001B[38;5;241m-\u001B[39m\u001B[38;5;241m1\u001B[39m]\n\u001B[0;32m     47\u001B[0m \u001B[38;5;28mprint\u001B[39m(requirement_bits)\n\u001B[1;32m---> 48\u001B[0m users_served \u001B[38;5;241m=\u001B[39m \u001B[38;5;241m0\u001B[39m  \u001B[38;5;66;03m# 初始化能服务的用户数\u001B[39;00m\n\u001B[0;32m     49\u001B[0m \u001B[38;5;66;03m# 对超出需求位长度的高阶信道，直接累加其数量至能服务的用户数\u001B[39;00m\n\u001B[0;32m     50\u001B[0m \u001B[38;5;28;01mfor\u001B[39;00m i \u001B[38;5;129;01min\u001B[39;00m \u001B[38;5;28mrange\u001B[39m(\u001B[38;5;28mlen\u001B[39m(requirement_bits), max_level \u001B[38;5;241m+\u001B[39m \u001B[38;5;241m1\u001B[39m):\n",
      "File \u001B[1;32m_pydevd_bundle\\pydevd_cython_win32_310_64.pyx:1179\u001B[0m, in \u001B[0;36m_pydevd_bundle.pydevd_cython_win32_310_64.SafeCallWrapper.__call__\u001B[1;34m()\u001B[0m\n",
      "File \u001B[1;32m_pydevd_bundle\\pydevd_cython_win32_310_64.pyx:620\u001B[0m, in \u001B[0;36m_pydevd_bundle.pydevd_cython_win32_310_64.PyDBFrame.trace_dispatch\u001B[1;34m()\u001B[0m\n",
      "File \u001B[1;32m_pydevd_bundle\\pydevd_cython_win32_310_64.pyx:929\u001B[0m, in \u001B[0;36m_pydevd_bundle.pydevd_cython_win32_310_64.PyDBFrame.trace_dispatch\u001B[1;34m()\u001B[0m\n",
      "File \u001B[1;32m_pydevd_bundle\\pydevd_cython_win32_310_64.pyx:920\u001B[0m, in \u001B[0;36m_pydevd_bundle.pydevd_cython_win32_310_64.PyDBFrame.trace_dispatch\u001B[1;34m()\u001B[0m\n",
      "File \u001B[1;32m_pydevd_bundle\\pydevd_cython_win32_310_64.pyx:317\u001B[0m, in \u001B[0;36m_pydevd_bundle.pydevd_cython_win32_310_64.PyDBFrame.do_wait_suspend\u001B[1;34m()\u001B[0m\n",
      "File \u001B[1;32mD:\\Compiler Files\\JetBrains\\PyCharm 2022.3.3\\plugins\\python\\helpers\\pydev\\pydevd.py:1160\u001B[0m, in \u001B[0;36mPyDB.do_wait_suspend\u001B[1;34m(self, thread, frame, event, arg, send_suspend_message, is_unhandled_exception)\u001B[0m\n\u001B[0;32m   1157\u001B[0m         from_this_thread\u001B[38;5;241m.\u001B[39mappend(frame_id)\n\u001B[0;32m   1159\u001B[0m \u001B[38;5;28;01mwith\u001B[39;00m \u001B[38;5;28mself\u001B[39m\u001B[38;5;241m.\u001B[39m_threads_suspended_single_notification\u001B[38;5;241m.\u001B[39mnotify_thread_suspended(thread_id, stop_reason):\n\u001B[1;32m-> 1160\u001B[0m     \u001B[38;5;28;43mself\u001B[39;49m\u001B[38;5;241;43m.\u001B[39;49m\u001B[43m_do_wait_suspend\u001B[49m\u001B[43m(\u001B[49m\u001B[43mthread\u001B[49m\u001B[43m,\u001B[49m\u001B[43m \u001B[49m\u001B[43mframe\u001B[49m\u001B[43m,\u001B[49m\u001B[43m \u001B[49m\u001B[43mevent\u001B[49m\u001B[43m,\u001B[49m\u001B[43m \u001B[49m\u001B[43marg\u001B[49m\u001B[43m,\u001B[49m\u001B[43m \u001B[49m\u001B[43msuspend_type\u001B[49m\u001B[43m,\u001B[49m\u001B[43m \u001B[49m\u001B[43mfrom_this_thread\u001B[49m\u001B[43m)\u001B[49m\n",
      "File \u001B[1;32mD:\\Compiler Files\\JetBrains\\PyCharm 2022.3.3\\plugins\\python\\helpers\\pydev\\pydevd.py:1175\u001B[0m, in \u001B[0;36mPyDB._do_wait_suspend\u001B[1;34m(self, thread, frame, event, arg, suspend_type, from_this_thread)\u001B[0m\n\u001B[0;32m   1172\u001B[0m             \u001B[38;5;28mself\u001B[39m\u001B[38;5;241m.\u001B[39m_call_mpl_hook()\n\u001B[0;32m   1174\u001B[0m         \u001B[38;5;28mself\u001B[39m\u001B[38;5;241m.\u001B[39mprocess_internal_commands()\n\u001B[1;32m-> 1175\u001B[0m         \u001B[43mtime\u001B[49m\u001B[38;5;241;43m.\u001B[39;49m\u001B[43msleep\u001B[49m\u001B[43m(\u001B[49m\u001B[38;5;241;43m0.01\u001B[39;49m\u001B[43m)\u001B[49m\n\u001B[0;32m   1177\u001B[0m \u001B[38;5;28mself\u001B[39m\u001B[38;5;241m.\u001B[39mcancel_async_evaluation(get_current_thread_id(thread), \u001B[38;5;28mstr\u001B[39m(\u001B[38;5;28mid\u001B[39m(frame)))\n\u001B[0;32m   1179\u001B[0m \u001B[38;5;66;03m# process any stepping instructions\u001B[39;00m\n",
      "\u001B[1;31mKeyboardInterrupt\u001B[0m: "
     ]
    }
   ],
   "source": [
    "\n",
    "\n",
    "# 定义将二进制位数组转换为十进制数的函数\n",
    "def bits_to_num(bits):\n",
    "    # 对二进制位数组进行遍历，每位的值乘以其对应的2的幂次求和得到十进制数\n",
    "    return sum(val * (2 ** idx) for idx, val in enumerate(bits))\n",
    "\n",
    "# 定义分配信道的函数\n",
    "def allocate_channels(channel阿s, requirement):\n",
    "    # 从最高阶开始向下遍历，尝试分配信道以满足需求\n",
    "    for i in reversed(range(len(channels))):\n",
    "        # 如果当前阶信道数量足够，直接减去需求量\n",
    "        if channels[i] >= requirement[i]:\n",
    "            channels[i] -= requirement[i]\n",
    "        else:\n",
    "            # 如果当前阶信道数量不足以满足需求，需要判断是否可以通过低阶信道组合满足需求\n",
    "            # 首先判断当前及更低阶信道总容量是否小于需求的总容量\n",
    "            if bits_to_num(channels[:i + 1]) < bits_to_num(requirement[:i + 1]):\n",
    "                # 如果低阶总容量不足，尝试从更高阶借用一个信道\n",
    "                for j in range(i + 1, len(channels)):\n",
    "                    if channels[j] > 0:\n",
    "                        channels[j] -= 1\n",
    "                        return True\n",
    "                # 如果高阶也无法借用，说明无法满足当前需求，返回False\n",
    "                return False\n",
    "            else:\n",
    "                # 如果当前及更低阶信道总容量足够，先尝试分配当前阶，不足部分由更低阶信道通过倍增补足\n",
    "                channels[i] -= requirement[i]\n",
    "                if i > 0:\n",
    "                    # 将不足部分的需求通过倍增转移到下一低阶，即需求翻倍\n",
    "                    channels[i - 1] += channels[i] * 2\n",
    "                # 将当前阶信道数量清零，因为已尽可能分配\n",
    "                channels[i] = 0\n",
    "    # 如果所有需求都能满足，返回True\n",
    "    return True\n",
    "\n",
    "if __name__ == '__main__':\n",
    "    # 用户输入最大信道阶数\n",
    "    max_level = 5\n",
    "    # 用户输入每种信道的数量，按阶数从小到大\n",
    "    channel_counts = [10,5,0,1,3,2]\n",
    "    # 用户输入单个用户需要的数据量\n",
    "    data_need = 30\n",
    "    # 将用户需求的数据量转换为二进制位数组，并反转以符合从低阶到高阶的顺序\n",
    "    print(bin(data_need)) # 0b11110\n",
    "    requirement_bits = list(map(int, str(bin(data_need))[2:]))[::-1]\n",
    "    print(requirement_bits)\n",
    "    users_served = 0  # 初始化能服务的用户数\n",
    "    # 对超出需求位长度的高阶信道，直接累加其数量至能服务的用户数\n",
    "    for i in range(len(requirement_bits), max_level + 1):\n",
    "        users_served += channel_counts[i]\n",
    "    # 初始化当前可用信道数组，长度与需求位相同\n",
    "    current_channels = channel_counts[:len(requirement_bits)]\n",
    "    while len(current_channels) < len(requirement_bits):\n",
    "        # 如果当前可用信道数组长度不足，补零以匹配需求位长度\n",
    "        current_channels.append(0)\n",
    "    # 尝试分配信道直到不再能满足任何用户的需求\n",
    "    while allocate_channels(current_channels, requirement_bits):\n",
    "        users_served += 1  # 成功分配则用户数加一\n",
    "\n",
    "    # 输出能服务的用户总数\n",
    "    print(users_served)\n"
   ],
   "metadata": {
    "collapsed": false
   }
  }
 ],
 "metadata": {
  "kernelspec": {
   "display_name": "Python 3",
   "language": "python",
   "name": "python3"
  },
  "language_info": {
   "codemirror_mode": {
    "name": "ipython",
    "version": 2
   },
   "file_extension": ".py",
   "mimetype": "text/x-python",
   "name": "python",
   "nbconvert_exporter": "python",
   "pygments_lexer": "ipython2",
   "version": "2.7.6"
  }
 },
 "nbformat": 4,
 "nbformat_minor": 0
}
