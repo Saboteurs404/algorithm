{
 "cells": [
  {
   "cell_type": "markdown",
   "source": [
    "![本地](./image/4_MELON的难题_1.png)\n",
    "![本地](./image/4_MELON的难题_2.png)"
   ],
   "metadata": {
    "collapsed": false
   }
  },
  {
   "cell_type": "code",
   "execution_count": 46,
   "metadata": {
    "collapsed": true
   },
   "outputs": [
    {
     "name": "stdout",
     "output_type": "stream",
     "text": [
      "average:21\n",
      "[22, 1, 2, 1, 2, 3, 4, 1, 1, 1, 1, 2, 2, 2, 3, 2, 2, 2, 2, 2, 3, 3]\n"
     ]
    }
   ],
   "source": [
    "'''\n",
    "动态规划：\n",
    "拆分子问题。记住过往，避免重复计算\n",
    "'''\n",
    "\n",
    "def  dynamic_playing(nums):\n",
    "     # 判断是否为奇数，如果为奇数，则无法平均分片\n",
    "    if sum(nums)%2 == 1:\n",
    "        return [-1]\n",
    "\n",
    "    average = int(sum(nums) // 2)\n",
    "    print(f\"average:{average}\")\n",
    "    # 定义一个动态规划表\n",
    "    dp = [average+1] * (average + 1)\n",
    "    # dp[0]没有用\n",
    "    dp_dict = {}\n",
    "    #TODO: 记录从小到大目标数所需要移除的最小数\n",
    "\n",
    "    for i in range(1, average + 1):\n",
    "        # 如果当前目标数存在，则移除最小数为1\n",
    "        if i in nums:\n",
    "                dp[i] = 1\n",
    "                dp_dict[i] = [i]\n",
    "        else:\n",
    "            for j in range(1, (i//2)+ 1):\n",
    "                temp = (dp_dict[i-j] + dp_dict[j])\n",
    "                temp.sort()\n",
    "                signal = 1\n",
    "                for item in temp:\n",
    "                    if temp.count(item) > nums.count(item):\n",
    "                        signal = 0\n",
    "                if signal:\n",
    "                    # print(f\"temp:{temp}\")\n",
    "                    if dp[i] > dp[i-j] + dp[j]:\n",
    "                        dp_dict[i] = temp\n",
    "                        dp[i] = dp[i-j] + dp[j]\n",
    "        # print(f\"dp[{i}]:{dp[i]}\")\n",
    "    return dp\n",
    "\n",
    "\n",
    "\n",
    "if __name__ == '__main__':\n",
    "    #todo: 输入\n",
    "    n = 10\n",
    "    s1 = '1 1 1 1 1 9 8 3 7 10'\n",
    "    nums = list(map(lambda x:int(x), s1.split(' ')))\n",
    "    nums.sort()\n",
    "    dp = dynamic_playing(nums)\n",
    "    print(dp)\n",
    "\n",
    "\n",
    "\n"
   ]
  },
  {
   "cell_type": "code",
   "execution_count": 30,
   "outputs": [
    {
     "name": "stdout",
     "output_type": "stream",
     "text": [
      "1\n"
     ]
    }
   ],
   "source": [
    "a = 'a, a, a'\n",
    "b = 'a, a, a, a, c, a'\n",
    "if a in b:\n",
    "    print(1)"
   ],
   "metadata": {
    "collapsed": false
   }
  },
  {
   "cell_type": "code",
   "execution_count": 38,
   "outputs": [
    {
     "name": "stdout",
     "output_type": "stream",
     "text": [
      "1\n"
     ]
    }
   ],
   "source": [
    "for i in range(10):\n",
    "    if False:\n",
    "        pass\n",
    "else:\n",
    "    print(1)"
   ],
   "metadata": {
    "collapsed": false
   }
  },
  {
   "cell_type": "code",
   "execution_count": null,
   "outputs": [],
   "source": [],
   "metadata": {
    "collapsed": false,
    "pycharm": {
     "is_executing": true
    }
   }
  },
  {
   "cell_type": "code",
   "execution_count": 37,
   "outputs": [],
   "source": [],
   "metadata": {
    "collapsed": false
   }
  }
 ],
 "metadata": {
  "kernelspec": {
   "display_name": "Python 3",
   "language": "python",
   "name": "python3"
  },
  "language_info": {
   "codemirror_mode": {
    "name": "ipython",
    "version": 2
   },
   "file_extension": ".py",
   "mimetype": "text/x-python",
   "name": "python",
   "nbconvert_exporter": "python",
   "pygments_lexer": "ipython2",
   "version": "2.7.6"
  }
 },
 "nbformat": 4,
 "nbformat_minor": 0
}
