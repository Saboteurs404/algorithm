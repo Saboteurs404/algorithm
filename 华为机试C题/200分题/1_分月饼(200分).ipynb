{
 "cells": [
  {
   "cell_type": "markdown",
   "source": [
    "![avatar](./image/1_分月饼.png \"分月饼\")"
   ],
   "metadata": {
    "collapsed": false
   }
  },
  {
   "cell_type": "code",
   "execution_count": null,
   "outputs": [],
   "source": [],
   "metadata": {
    "collapsed": false
   }
  },
  {
   "cell_type": "code",
   "execution_count": 6,
   "outputs": [
    {
     "name": "stdout",
     "output_type": "stream",
     "text": [
      "[1]\n",
      "[2]\n",
      "[3]\n",
      "[[1], [2], [3]]\n"
     ]
    }
   ],
   "source": [
    "# 总共N个人，剩余m个月饼,前几人分配月饼数为nums\n",
    "def dispose(N, m, num):\n",
    "\n",
    "    pass\n",
    "\n",
    "if __name__ == '__main__':\n",
    "    N = 2\n",
    "    m = 4\n",
    "    nums = []\n",
    "    for i in range(1 ,m-N+2):\n",
    "        # 如果大于1才有效\n",
    "        if N > 1:\n",
    "            temp = [i] *\n",
    "            print(temp)\n",
    "            nums.append(temp)\n",
    "\n",
    "\n",
    "    # 总共N-1个人，剩余m个月饼，前几个人分配了nums个月饼\n",
    "    for num in nums:\n",
    "        if N-1>0:\n",
    "            dispose(N-1,m-sum(num),num)\n",
    "    print(nums)"
   ],
   "metadata": {
    "collapsed": false
   }
  },
  {
   "cell_type": "code",
   "execution_count": 1,
   "metadata": {
    "collapsed": true
   },
   "outputs": [
    {
     "name": "stdout",
     "output_type": "stream",
     "text": [
      "2\n",
      "[1, 1]\n"
     ]
    }
   ],
   "source": [
    "import sys\n",
    "s = [2, 4]\n",
    "\n",
    "# 先给每个员工分配一个月饼\n",
    "employees = [1] * s[0]\n",
    "# 计算剩余月饼个数\n",
    "num = s[1] - s[0]\n",
    "print(num)\n",
    "# 分配完所有月饼为止\n",
    "for i in range(num):\n",
    "    # 循环每个员工\n",
    "    for j in range(len(employees-1)):\n",
    "        if(employees[i] == employees):\n",
    "            employees[j]\n",
    "\n",
    "print(employees)"
   ]
  },
  {
   "cell_type": "code",
   "execution_count": null,
   "outputs": [],
   "source": [],
   "metadata": {
    "collapsed": false
   }
  }
 ],
 "metadata": {
  "kernelspec": {
   "display_name": "Python 3",
   "language": "python",
   "name": "python3"
  },
  "language_info": {
   "codemirror_mode": {
    "name": "ipython",
    "version": 2
   },
   "file_extension": ".py",
   "mimetype": "text/x-python",
   "name": "python",
   "nbconvert_exporter": "python",
   "pygments_lexer": "ipython2",
   "version": "2.7.6"
  }
 },
 "nbformat": 4,
 "nbformat_minor": 0
}
