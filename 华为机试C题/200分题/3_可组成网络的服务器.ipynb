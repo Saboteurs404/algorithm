{
 "cells": [
  {
   "cell_type": "markdown",
   "source": [
    "![本地](./image/3_可组成网络的服务器.png '可组网的服务器')"
   ],
   "metadata": {
    "collapsed": false
   }
  },
  {
   "cell_type": "code",
   "execution_count": 20,
   "metadata": {
    "collapsed": true
   },
   "outputs": [],
   "source": [
    "\n",
    "def solution(list_nums):\n",
    "     x = list_nums[0]\n",
    "     y = list_nums[1]\n",
    "     if x - 1 >= 0 and s2[x-1][y] == 1:\n",
    "          #todo: 如果该项已从coolections中删除，则不在将其加入到result中\n",
    "          if [x-1,y] not in coolections:\n",
    "               pass\n",
    "          else:\n",
    "               result.append([x-1,y])\n",
    "     if x + 1 < nums[0] and s2[x+1][y] == 1:\n",
    "          if [x+1,y] not in coolections:\n",
    "               pass\n",
    "          else:\n",
    "               result.append([x+1,y])\n",
    "     if y -1 >= 0 and s2[x][y-1] == 1:\n",
    "          if [x,y-1] not in coolections:\n",
    "               pass\n",
    "          else:\n",
    "               result.append([x,y-1])\n",
    "     if y + 1 < nums[1] and s2[x][y+1] == 1:\n",
    "          if [x,y+1] not in coolections:\n",
    "               pass\n",
    "          else:\n",
    "               result.append([x,y+1])\n",
    "\n",
    "\n",
    "\n"
   ]
  },
  {
   "cell_type": "code",
   "execution_count": 34,
   "outputs": [
    {
     "name": "stdout",
     "output_type": "stream",
     "text": [
      "5\n"
     ]
    }
   ],
   "source": [
    "if __name__ == '__main__':\n",
    "     s1 = '2 3'\n",
    "     s2 = [[1, 0, 1],\n",
    "          [1, 1, 1]]\n",
    "     nums =  list(map(lambda a: int(a) ,s1.split()))\n",
    "\n",
    "     ''' TODO:\n",
    "     使用栈的形式来进行处理\n",
    "     '''\n",
    "\n",
    "     coolections = []\n",
    "     #得到所有数值为一的索引\n",
    "     for i in range(nums[0]):\n",
    "          for j in range(nums[1]):\n",
    "               if s2[i][j] == 1:\n",
    "                    coolections.append([i,j])\n",
    "     # print(coolections)\n",
    "\n",
    "     result = [coolections[0]]\n",
    "     # 递归遍历\n",
    "     i = 0\n",
    "     numbers = []\n",
    "     while coolections:\n",
    "          if result:\n",
    "               i += 1\n",
    "               # 以队列的形式进行调用\n",
    "               item = result.pop(0)\n",
    "               # print('----')\n",
    "               # print(item)\n",
    "               coolections.remove(item)\n",
    "               solution(item)\n",
    "          #SECTION: 不能用else：是因为当collections中最后一个值为1时，执行完if 就会直接跳出循环\n",
    "          if not result:\n",
    "               # 存储该局域网的服务器书\n",
    "               numbers.append(i)\n",
    "               # 将服务器数值为1\n",
    "               i = 0\n",
    "               if coolections:\n",
    "                    result = coolections[0]\n",
    "               # print(numbers)\n",
    "     print(max(numbers))\n",
    "\n",
    "\n"
   ],
   "metadata": {
    "collapsed": false
   }
  },
  {
   "cell_type": "code",
   "execution_count": null,
   "outputs": [],
   "source": [],
   "metadata": {
    "collapsed": false
   }
  }
 ],
 "metadata": {
  "kernelspec": {
   "display_name": "Python 3",
   "language": "python",
   "name": "python3"
  },
  "language_info": {
   "codemirror_mode": {
    "name": "ipython",
    "version": 2
   },
   "file_extension": ".py",
   "mimetype": "text/x-python",
   "name": "python",
   "nbconvert_exporter": "python",
   "pygments_lexer": "ipython2",
   "version": "2.7.6"
  }
 },
 "nbformat": 4,
 "nbformat_minor": 0
}
