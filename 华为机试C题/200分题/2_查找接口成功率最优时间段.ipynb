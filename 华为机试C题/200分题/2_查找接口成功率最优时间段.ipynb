{
 "cells": [
  {
   "cell_type": "markdown",
   "source": [
    "![当地](./image/2_查找接口成功率最优时间段.png '查找接口成功率最优时间段')"
   ],
   "metadata": {
    "collapsed": false
   }
  },
  {
   "cell_type": "code",
   "execution_count": 27,
   "metadata": {
    "collapsed": true
   },
   "outputs": [
    {
     "name": "stdout",
     "output_type": "stream",
     "text": [
      "{2: [[0, 1], [3, 4], [6, 7]], 1: [[1, 1], [4, 4], [7, 7]]}\n",
      "2\n",
      "0-1\n",
      "3-4\n",
      "6-7\n"
     ]
    }
   ],
   "source": [
    "#todo: 输入\n",
    "minAverageLost = 2\n",
    "lost_nums = [0,0,100,2,2,99,0,2]\n",
    "\n",
    "result = {}\n",
    "\n",
    "# 将所有符合条件的进行保存\n",
    "for i in range(len(lost_nums)):\n",
    "    length = 0\n",
    "    for j in range(i, len(lost_nums)):\n",
    "        # print([i,j])\n",
    "        if sum(lost_nums[i:j+1]) <= (j-i+1) * minAverageLost:\n",
    "            length += 1\n",
    "            if j == len(lost_nums) -1:\n",
    "                if length in result.keys():\n",
    "                    result[length].append([i, j])\n",
    "                else:\n",
    "                    result[length] = [[i, j]]\n",
    "\n",
    "        elif length > 0:\n",
    "            if length in result.keys():\n",
    "                result[length].append([i, j-1])\n",
    "            else:\n",
    "                result[length] = [[i, j-1]]\n",
    "            break\n",
    "        else:\n",
    "            break\n",
    "\n",
    "print(result)\n",
    "m = max(result)\n",
    "print(m)\n",
    "for temp in result[m]:\n",
    "    print(f'{temp[0]}-{temp[1]}')\n"
   ]
  },
  {
   "cell_type": "code",
   "execution_count": null,
   "outputs": [],
   "source": [],
   "metadata": {
    "collapsed": false
   }
  }
 ],
 "metadata": {
  "kernelspec": {
   "display_name": "Python 3",
   "language": "python",
   "name": "python3"
  },
  "language_info": {
   "codemirror_mode": {
    "name": "ipython",
    "version": 2
   },
   "file_extension": ".py",
   "mimetype": "text/x-python",
   "name": "python",
   "nbconvert_exporter": "python",
   "pygments_lexer": "ipython2",
   "version": "2.7.6"
  }
 },
 "nbformat": 4,
 "nbformat_minor": 0
}
