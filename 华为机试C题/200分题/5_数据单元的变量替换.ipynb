{
 "cells": [
  {
   "cell_type": "markdown",
   "source": [
    "![本地](./image/5_1.png)\n",
    "![bendi](./image/5_2.png)"
   ],
   "metadata": {
    "collapsed": false
   }
  },
  {
   "cell_type": "code",
   "execution_count": 39,
   "metadata": {
    "collapsed": true
   },
   "outputs": [
    {
     "name": "stdout",
     "output_type": "stream",
     "text": [
      "-1\n"
     ]
    }
   ],
   "source": [
    "import re\n",
    "def dispose(s):\n",
    "    letters = [chr(i) for i in range(ord('A'), ord('A')+len(s))]\n",
    "    # 生成单元格\n",
    "    partition = dict(zip(letters, s))\n",
    "    # print(partition)\n",
    "    # 已获得结果表\n",
    "    result = {}\n",
    "    # 映射表\n",
    "    record = {}\n",
    "    for key, value in partition.items():\n",
    "        # 判断是否符合要求\n",
    "        if value.count('<') == 1 and value.count('>') == 1:\n",
    "            # 获取<符号的位置\n",
    "            index = value.index('<')\n",
    "            # 如果索引字母属于分区类 并且 索引字母已获知结果 就执行\n",
    "            if value[index+1] in partition and value[index+1] in result:\n",
    "                # 得到最终结果，并存放到result字典中\n",
    "                result[key] = value[:index] + result[value[index+1]] + value[index+3:]\n",
    "            # 如果字母属于分区类\n",
    "            elif value[index+1] in partition:\n",
    "                # 该索引字字不在最终结果 则 保存到索引表中 以列表形式存储\n",
    "                if value[index+1] in record:\n",
    "                    record[value[index+1]] += [key]\n",
    "                else:\n",
    "                    record[value[index+1]] = [key]\n",
    "            else:\n",
    "                return '-1'\n",
    "        # 无索引则直接保存\n",
    "        elif value.count('<') == 0 and value.count('>') == 0:\n",
    "            result[key] = value\n",
    "        else:\n",
    "            return '-1'\n",
    "\n",
    "    # 判断所有单元格是否都是最终结果\n",
    "    while len(result) < len(partition):\n",
    "        # 应字典在遍历是无法修改\n",
    "        # 先用另一个列表进行存储\n",
    "        temp = {}\n",
    "        # 遍历已获取最终结果的表\n",
    "        for key in result.keys():\n",
    "            if key in record:\n",
    "                print(key)\n",
    "                print(record)\n",
    "                for word in record[key]:\n",
    "                    print(word)\n",
    "                    index = partition[word].index('<')\n",
    "                    # 对其进行拼接\n",
    "                    temp[word] = partition[word][:index] + result[key] + partition[word][index+3:]\n",
    "                    print(result)\n",
    "        # 添加临时字典中存储的值\n",
    "        result.update(temp)\n",
    "\n",
    "    # 拼接字符串\n",
    "    rs = ''\n",
    "    for key, word in result.items():\n",
    "        rs += str(word) + ','\n",
    "    return rs[:-1]\n",
    "\n",
    "\n",
    "\n",
    "\n",
    "if __name__ == '__main__':\n",
    "    s1 = '1,2<A>00'\n",
    "    s2 = '<B>12, 1'\n",
    "    s3 = '<B<12, 1'\n",
    "    s2 = s2.replace(' ','')\n",
    "    s = s3.split(',')\n",
    "    word = dispose(s)\n",
    "    print(word)\n"
   ]
  },
  {
   "cell_type": "code",
   "execution_count": 13,
   "outputs": [
    {
     "name": "stdout",
     "output_type": "stream",
     "text": [
      "A\n",
      "<re.Match object; span=(0, 7), match='1<A>222'>\n"
     ]
    }
   ],
   "source": [
    "import re\n",
    "s = '1<A>222'\n",
    "re_match = '.*\\<([A-Z])\\>.*'\n",
    "a = re.match(re_match, s)\n",
    "print(a.group(1))\n",
    "print(a)"
   ],
   "metadata": {
    "collapsed": false
   }
  },
  {
   "cell_type": "code",
   "execution_count": null,
   "outputs": [],
   "source": [],
   "metadata": {
    "collapsed": false,
    "pycharm": {
     "is_executing": true
    }
   }
  },
  {
   "cell_type": "code",
   "execution_count": 4,
   "outputs": [],
   "source": [],
   "metadata": {
    "collapsed": false
   }
  }
 ],
 "metadata": {
  "kernelspec": {
   "display_name": "Python 3",
   "language": "python",
   "name": "python3"
  },
  "language_info": {
   "codemirror_mode": {
    "name": "ipython",
    "version": 2
   },
   "file_extension": ".py",
   "mimetype": "text/x-python",
   "name": "python",
   "nbconvert_exporter": "python",
   "pygments_lexer": "ipython2",
   "version": "2.7.6"
  }
 },
 "nbformat": 4,
 "nbformat_minor": 0
}
