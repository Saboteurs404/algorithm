{
 "cells": [
  {
   "cell_type": "markdown",
   "source": [
    "![本地](./image/1_寻找身高相近的小朋友.png \"寻找身高相似的小朋友\n",
    "\")"
   ],
   "metadata": {
    "collapsed": false
   }
  },
  {
   "cell_type": "code",
   "execution_count": 9,
   "metadata": {
    "collapsed": true
   },
   "outputs": [
    {
     "name": "stdout",
     "output_type": "stream",
     "text": [
      "{0: 5, 1: 4, 2: 3, 3: 2, 4: 1, 5: 1, 6: 2, 7: 3, 8: 4, 9: 5}\n",
      "5\n"
     ]
    }
   ],
   "source": [
    "s1 = '100 10'\n",
    "s2 = '95 96 97 98 99 101 102 103 104 105'\n",
    "s1 = s1.split(' ')\n",
    "s2 = s2.split(' ')\n",
    "h = int(s1[0])\n",
    "\n",
    "\n",
    "h_s = {}\n",
    "for i in range(len(s2)):\n",
    "    if int(s2[i]) > h:\n",
    "        h_s[i] = int(s2[i]) - h\n",
    "    else:\n",
    "        h_s[i] = h-int(s2[i])\n",
    "print(h_s)\n",
    "min_n = min(h_s.values())\n",
    "max_n = max(h_s.values())\n",
    "\n",
    "print(max(h_s.values()))\n"
   ]
  },
  {
   "cell_type": "code",
   "execution_count": 16,
   "outputs": [
    {
     "name": "stdout",
     "output_type": "stream",
     "text": [
      "[99, 101, 98, 102, 97, 103, 96, 104, 95, 105]\n"
     ]
    }
   ],
   "source": [
    "result = []\n",
    "for i in range(min_n, max_n+1):\n",
    "    if i in h_s.values():\n",
    "        temp = []\n",
    "        for key,value in h_s.items():\n",
    "            if value == i:\n",
    "                temp.append(int(s2[key]))\n",
    "        temp.sort()\n",
    "        for num in temp:\n",
    "            result.append(num)\n",
    "\n",
    "\n",
    "print(result)\n"
   ],
   "metadata": {
    "collapsed": false
   }
  },
  {
   "cell_type": "code",
   "execution_count": null,
   "outputs": [],
   "source": [],
   "metadata": {
    "collapsed": false
   }
  }
 ],
 "metadata": {
  "kernelspec": {
   "display_name": "Python 3",
   "language": "python",
   "name": "python3"
  },
  "language_info": {
   "codemirror_mode": {
    "name": "ipython",
    "version": 2
   },
   "file_extension": ".py",
   "mimetype": "text/x-python",
   "name": "python",
   "nbconvert_exporter": "python",
   "pygments_lexer": "ipython2",
   "version": "2.7.6"
  }
 },
 "nbformat": 4,
 "nbformat_minor": 0
}
