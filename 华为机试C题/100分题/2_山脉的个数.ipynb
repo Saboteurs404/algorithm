{
 "cells": [
  {
   "cell_type": "markdown",
   "source": [
    "![本地](./image/2_山脉的个数.png '山脉的个数')"
   ],
   "metadata": {
    "collapsed": false
   }
  },
  {
   "cell_type": "code",
   "execution_count": 6,
   "metadata": {
    "collapsed": true
   },
   "outputs": [
    {
     "name": "stdout",
     "output_type": "stream",
     "text": [
      "3\n"
     ]
    }
   ],
   "source": [
    "a = [0,1,4,3,1,0,0,1,2,3,1,2,1,0]\n",
    "\n",
    "sum = 0\n",
    "for i in range(1, len(a)):\n",
    "    if i == 1 and a[i-1] > a[i]:\n",
    "       sum += 1\n",
    "    elif i == len(a) - 1 and a[i] > a[i-1]:\n",
    "        sum += 1\n",
    "    elif a[i-1] < a[i] > a[i+1]:\n",
    "        sum += 1\n",
    "print(sum)\n",
    "\n"
   ]
  },
  {
   "cell_type": "code",
   "execution_count": null,
   "outputs": [],
   "source": [],
   "metadata": {
    "collapsed": false
   }
  }
 ],
 "metadata": {
  "kernelspec": {
   "display_name": "Python 3",
   "language": "python",
   "name": "python3"
  },
  "language_info": {
   "codemirror_mode": {
    "name": "ipython",
    "version": 2
   },
   "file_extension": ".py",
   "mimetype": "text/x-python",
   "name": "python",
   "nbconvert_exporter": "python",
   "pygments_lexer": "ipython2",
   "version": "2.7.6"
  }
 },
 "nbformat": 4,
 "nbformat_minor": 0
}
