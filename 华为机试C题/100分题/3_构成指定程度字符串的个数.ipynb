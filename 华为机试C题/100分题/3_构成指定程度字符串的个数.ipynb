{
 "cells": [
  {
   "cell_type": "markdown",
   "source": [],
   "metadata": {
    "collapsed": false
   }
  },
  {
   "cell_type": "markdown",
   "source": [
    "![本地](./image/3_构成指定长度字符串的个数.png)"
   ],
   "metadata": {
    "collapsed": false
   }
  },
  {
   "cell_type": "code",
   "execution_count": 4,
   "outputs": [
    {
     "name": "stdout",
     "output_type": "stream",
     "text": [
      "Counter({'a': 1, 'c': 1, 'b': 1})\n",
      "3\n",
      "6\n"
     ]
    }
   ],
   "source": [
    "from collections import Counter\n",
    "\n",
    "a = 'acb 2'\n",
    "s = a.split(' ')\n",
    "n = int(s[1])\n",
    "s = s[0]\n",
    "\n",
    "word_dict=Counter(s)\n",
    "l = len(word_dict)\n",
    "\n",
    "sum = 1\n",
    "if l < n:\n",
    "    sum = 0\n",
    "else:\n",
    "    for i in range(n):\n",
    "       sum = sum*l\n",
    "       l -= 1\n",
    "print(sum)\n"
   ],
   "metadata": {
    "collapsed": false
   }
  },
  {
   "cell_type": "code",
   "execution_count": null,
   "outputs": [],
   "source": [],
   "metadata": {
    "collapsed": false
   }
  }
 ],
 "metadata": {
  "kernelspec": {
   "display_name": "Python 3",
   "language": "python",
   "name": "python3"
  },
  "language_info": {
   "codemirror_mode": {
    "name": "ipython",
    "version": 2
   },
   "file_extension": ".py",
   "mimetype": "text/x-python",
   "name": "python",
   "nbconvert_exporter": "python",
   "pygments_lexer": "ipython2",
   "version": "2.7.6"
  }
 },
 "nbformat": 4,
 "nbformat_minor": 0
}
