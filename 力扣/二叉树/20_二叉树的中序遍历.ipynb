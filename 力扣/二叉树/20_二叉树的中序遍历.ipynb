{
 "cells": [
  {
   "cell_type": "markdown",
   "source": [
    "![](../images/20_1.png)"
   ],
   "metadata": {
    "collapsed": false
   }
  },
  {
   "cell_type": "code",
   "execution_count": 3,
   "metadata": {
    "collapsed": true
   },
   "outputs": [
    {
     "name": "stdout",
     "output_type": "stream",
     "text": [
      "[1, 3, 2]\n"
     ]
    }
   ],
   "source": [
    "# Definition for a binary tree node.\n",
    "class TreeNode():\n",
    "    def __init__(self,val = 0, left = None, right = None):\n",
    "        self.val = val\n",
    "        self.left = left\n",
    "        self.right = right\n",
    "\n",
    "    def create_treenode(self,nums):\n",
    "        # 存储节点。先进先出，使用队列\n",
    "        #TODO 集合没有下标不能通过索引查询\n",
    "        if nums:\n",
    "            # 集合增删速度更快\n",
    "            root = TreeNode(nums.pop(0))\n",
    "            head = root\n",
    "            queue = [root]\n",
    "            while queue:\n",
    "                if nums == None:\n",
    "                    break\n",
    "                if nums:\n",
    "                    if nums[0] == None:\n",
    "                        nums.pop(0)\n",
    "                    else:\n",
    "                        queue[0].left = TreeNode(nums.pop(0))\n",
    "                        queue.append(queue[0].left)\n",
    "                if nums:\n",
    "                    if nums[0] == None:\n",
    "                        nums.pop(0)\n",
    "                    else:\n",
    "                        queue[0].right = TreeNode(nums.pop(0))\n",
    "                        queue.append(queue[0].right)\n",
    "                queue.pop(0)\n",
    "            return head\n",
    "        else:\n",
    "            return TreeNode(None)\n",
    "\n",
    "\n",
    "class Solution:\n",
    "    def inorderTraversal(self, root):\n",
    "\n",
    "        def treenode_dispose(node):\n",
    "            if node.left:\n",
    "                treenode_dispose(node.left)\n",
    "            result.append(node.val)\n",
    "            if node.right:\n",
    "                treenode_dispose(node.right)\n",
    "\n",
    "        result = []\n",
    "        if root:\n",
    "            treenode_dispose(root)\n",
    "            return result\n",
    "        else:\n",
    "            return []\n",
    "\n",
    "if __name__ == '__main__':\n",
    "    nums = [1,None,2,3]\n",
    "    root = TreeNode().create_treenode(nums)\n",
    "    result = Solution().inorderTraversal(root)\n",
    "    print(result)"
   ]
  },
  {
   "cell_type": "markdown",
   "source": [
    "![](../images/20_2.png)"
   ],
   "metadata": {
    "collapsed": false
   }
  },
  {
   "cell_type": "code",
   "execution_count": 8,
   "outputs": [
    {
     "name": "stdout",
     "output_type": "stream",
     "text": [
      "1 2 2 3 4 5 6 7\n",
      "1 2 2 3 4 5 6 7 \n",
      " 1 2 2 3 4 5 6 7\n"
     ]
    }
   ],
   "source": [
    "\n",
    "a = ' 1 2 2 3 4 5 6 7 '\n",
    "print(a.strip())\n",
    "print(a.lstrip())\n",
    "print(a.rstrip())"
   ],
   "metadata": {
    "collapsed": false
   }
  },
  {
   "cell_type": "code",
   "execution_count": null,
   "outputs": [],
   "source": [],
   "metadata": {
    "collapsed": false
   }
  }
 ],
 "metadata": {
  "kernelspec": {
   "display_name": "Python 3",
   "language": "python",
   "name": "python3"
  },
  "language_info": {
   "codemirror_mode": {
    "name": "ipython",
    "version": 2
   },
   "file_extension": ".py",
   "mimetype": "text/x-python",
   "name": "python",
   "nbconvert_exporter": "python",
   "pygments_lexer": "ipython2",
   "version": "2.7.6"
  }
 },
 "nbformat": 4,
 "nbformat_minor": 0
}
