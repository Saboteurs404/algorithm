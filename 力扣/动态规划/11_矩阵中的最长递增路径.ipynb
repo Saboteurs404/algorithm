{
 "cells": [
  {
   "cell_type": "markdown",
   "source": [
    "![](../images/11_1.png)\n",
    "![](../images/11_2.png)"
   ],
   "metadata": {
    "collapsed": false
   }
  },
  {
   "cell_type": "code",
   "execution_count": 3,
   "metadata": {
    "collapsed": true
   },
   "outputs": [
    {
     "ename": "KeyboardInterrupt",
     "evalue": "",
     "output_type": "error",
     "traceback": [
      "\u001B[1;31m---------------------------------------------------------------------------\u001B[0m",
      "\u001B[1;31mKeyboardInterrupt\u001B[0m                         Traceback (most recent call last)",
      "Cell \u001B[1;32mIn[3], line 45\u001B[0m\n\u001B[0;32m     42\u001B[0m \u001B[38;5;28;01mif\u001B[39;00m \u001B[38;5;18m__name__\u001B[39m \u001B[38;5;241m==\u001B[39m \u001B[38;5;124m'\u001B[39m\u001B[38;5;124m__main__\u001B[39m\u001B[38;5;124m'\u001B[39m:\n\u001B[0;32m     43\u001B[0m     \u001B[38;5;66;03m# matrix = [[9,9,4],[6,6,8],[2,1,1]]\u001B[39;00m\n\u001B[0;32m     44\u001B[0m     matrix \u001B[38;5;241m=\u001B[39m [[\u001B[38;5;241m0\u001B[39m,\u001B[38;5;241m1\u001B[39m,\u001B[38;5;241m2\u001B[39m,\u001B[38;5;241m3\u001B[39m,\u001B[38;5;241m4\u001B[39m,\u001B[38;5;241m5\u001B[39m,\u001B[38;5;241m6\u001B[39m,\u001B[38;5;241m7\u001B[39m,\u001B[38;5;241m8\u001B[39m,\u001B[38;5;241m9\u001B[39m],[\u001B[38;5;241m19\u001B[39m,\u001B[38;5;241m18\u001B[39m,\u001B[38;5;241m17\u001B[39m,\u001B[38;5;241m16\u001B[39m,\u001B[38;5;241m15\u001B[39m,\u001B[38;5;241m14\u001B[39m,\u001B[38;5;241m13\u001B[39m,\u001B[38;5;241m12\u001B[39m,\u001B[38;5;241m11\u001B[39m,\u001B[38;5;241m10\u001B[39m],[\u001B[38;5;241m20\u001B[39m,\u001B[38;5;241m21\u001B[39m,\u001B[38;5;241m22\u001B[39m,\u001B[38;5;241m23\u001B[39m,\u001B[38;5;241m24\u001B[39m,\u001B[38;5;241m25\u001B[39m,\u001B[38;5;241m26\u001B[39m,\u001B[38;5;241m27\u001B[39m,\u001B[38;5;241m28\u001B[39m,\u001B[38;5;241m29\u001B[39m],[\u001B[38;5;241m39\u001B[39m,\u001B[38;5;241m38\u001B[39m,\u001B[38;5;241m37\u001B[39m,\u001B[38;5;241m36\u001B[39m,\u001B[38;5;241m35\u001B[39m,\u001B[38;5;241m34\u001B[39m,\u001B[38;5;241m33\u001B[39m,\u001B[38;5;241m32\u001B[39m,\u001B[38;5;241m31\u001B[39m,\u001B[38;5;241m30\u001B[39m],[\u001B[38;5;241m40\u001B[39m,\u001B[38;5;241m41\u001B[39m,\u001B[38;5;241m42\u001B[39m,\u001B[38;5;241m43\u001B[39m,\u001B[38;5;241m44\u001B[39m,\u001B[38;5;241m45\u001B[39m,\u001B[38;5;241m46\u001B[39m,\u001B[38;5;241m47\u001B[39m,\u001B[38;5;241m48\u001B[39m,\u001B[38;5;241m49\u001B[39m],[\u001B[38;5;241m59\u001B[39m,\u001B[38;5;241m58\u001B[39m,\u001B[38;5;241m57\u001B[39m,\u001B[38;5;241m56\u001B[39m,\u001B[38;5;241m55\u001B[39m,\u001B[38;5;241m54\u001B[39m,\u001B[38;5;241m53\u001B[39m,\u001B[38;5;241m52\u001B[39m,\u001B[38;5;241m51\u001B[39m,\u001B[38;5;241m50\u001B[39m],[\u001B[38;5;241m60\u001B[39m,\u001B[38;5;241m61\u001B[39m,\u001B[38;5;241m62\u001B[39m,\u001B[38;5;241m63\u001B[39m,\u001B[38;5;241m64\u001B[39m,\u001B[38;5;241m65\u001B[39m,\u001B[38;5;241m66\u001B[39m,\u001B[38;5;241m67\u001B[39m,\u001B[38;5;241m68\u001B[39m,\u001B[38;5;241m69\u001B[39m],[\u001B[38;5;241m79\u001B[39m,\u001B[38;5;241m78\u001B[39m,\u001B[38;5;241m77\u001B[39m,\u001B[38;5;241m76\u001B[39m,\u001B[38;5;241m75\u001B[39m,\u001B[38;5;241m74\u001B[39m,\u001B[38;5;241m73\u001B[39m,\u001B[38;5;241m72\u001B[39m,\u001B[38;5;241m71\u001B[39m,\u001B[38;5;241m70\u001B[39m],[\u001B[38;5;241m80\u001B[39m,\u001B[38;5;241m81\u001B[39m,\u001B[38;5;241m82\u001B[39m,\u001B[38;5;241m83\u001B[39m,\u001B[38;5;241m84\u001B[39m,\u001B[38;5;241m85\u001B[39m,\u001B[38;5;241m86\u001B[39m,\u001B[38;5;241m87\u001B[39m,\u001B[38;5;241m88\u001B[39m,\u001B[38;5;241m89\u001B[39m],[\u001B[38;5;241m99\u001B[39m,\u001B[38;5;241m98\u001B[39m,\u001B[38;5;241m97\u001B[39m,\u001B[38;5;241m96\u001B[39m,\u001B[38;5;241m95\u001B[39m,\u001B[38;5;241m94\u001B[39m,\u001B[38;5;241m93\u001B[39m,\u001B[38;5;241m92\u001B[39m,\u001B[38;5;241m91\u001B[39m,\u001B[38;5;241m90\u001B[39m],[\u001B[38;5;241m100\u001B[39m,\u001B[38;5;241m101\u001B[39m,\u001B[38;5;241m102\u001B[39m,\u001B[38;5;241m103\u001B[39m,\u001B[38;5;241m104\u001B[39m,\u001B[38;5;241m105\u001B[39m,\u001B[38;5;241m106\u001B[39m,\u001B[38;5;241m107\u001B[39m,\u001B[38;5;241m108\u001B[39m,\u001B[38;5;241m109\u001B[39m],[\u001B[38;5;241m119\u001B[39m,\u001B[38;5;241m118\u001B[39m,\u001B[38;5;241m117\u001B[39m,\u001B[38;5;241m116\u001B[39m,\u001B[38;5;241m115\u001B[39m,\u001B[38;5;241m114\u001B[39m,\u001B[38;5;241m113\u001B[39m,\u001B[38;5;241m112\u001B[39m,\u001B[38;5;241m111\u001B[39m,\u001B[38;5;241m110\u001B[39m],[\u001B[38;5;241m120\u001B[39m,\u001B[38;5;241m121\u001B[39m,\u001B[38;5;241m122\u001B[39m,\u001B[38;5;241m123\u001B[39m,\u001B[38;5;241m124\u001B[39m,\u001B[38;5;241m125\u001B[39m,\u001B[38;5;241m126\u001B[39m,\u001B[38;5;241m127\u001B[39m,\u001B[38;5;241m128\u001B[39m,\u001B[38;5;241m129\u001B[39m],[\u001B[38;5;241m139\u001B[39m,\u001B[38;5;241m138\u001B[39m,\u001B[38;5;241m137\u001B[39m,\u001B[38;5;241m136\u001B[39m,\u001B[38;5;241m135\u001B[39m,\u001B[38;5;241m134\u001B[39m,\u001B[38;5;241m133\u001B[39m,\u001B[38;5;241m132\u001B[39m,\u001B[38;5;241m131\u001B[39m,\u001B[38;5;241m130\u001B[39m],[\u001B[38;5;241m0\u001B[39m,\u001B[38;5;241m0\u001B[39m,\u001B[38;5;241m0\u001B[39m,\u001B[38;5;241m0\u001B[39m,\u001B[38;5;241m0\u001B[39m,\u001B[38;5;241m0\u001B[39m,\u001B[38;5;241m0\u001B[39m,\u001B[38;5;241m0\u001B[39m,\u001B[38;5;241m0\u001B[39m,\u001B[38;5;241m0\u001B[39m]]\n\u001B[1;32m---> 45\u001B[0m     result \u001B[38;5;241m=\u001B[39m \u001B[43mSolution\u001B[49m\u001B[43m(\u001B[49m\u001B[43m)\u001B[49m\u001B[38;5;241;43m.\u001B[39;49m\u001B[43mlongestIncreasingPath\u001B[49m\u001B[43m(\u001B[49m\u001B[43mmatrix\u001B[49m\u001B[43m)\u001B[49m\n\u001B[0;32m     46\u001B[0m     \u001B[38;5;28mprint\u001B[39m(result)\n",
      "Cell \u001B[1;32mIn[3], line 38\u001B[0m, in \u001B[0;36mSolution.longestIncreasingPath\u001B[1;34m(self, matrix)\u001B[0m\n\u001B[0;32m     36\u001B[0m max_nums \u001B[38;5;241m=\u001B[39m \u001B[38;5;241m0\u001B[39m\n\u001B[0;32m     37\u001B[0m \u001B[38;5;28;01mfor\u001B[39;00m i \u001B[38;5;129;01min\u001B[39;00m dispose\u001B[38;5;241m.\u001B[39mkeys():\n\u001B[1;32m---> 38\u001B[0m     coordinate[i]  \u001B[38;5;241m=\u001B[39m \u001B[43mparitition\u001B[49m\u001B[43m(\u001B[49m\u001B[43mi\u001B[49m\u001B[43m,\u001B[49m\u001B[38;5;241;43m1\u001B[39;49m\u001B[43m)\u001B[49m\n\u001B[0;32m     39\u001B[0m     max_nums \u001B[38;5;241m=\u001B[39m \u001B[38;5;28mmax\u001B[39m(max_nums,coordinate[i])\n\u001B[0;32m     40\u001B[0m \u001B[38;5;28;01mreturn\u001B[39;00m max_nums\n",
      "Cell \u001B[1;32mIn[3], line 33\u001B[0m, in \u001B[0;36mSolution.longestIncreasingPath.<locals>.paritition\u001B[1;34m(coor, n)\u001B[0m\n\u001B[0;32m     31\u001B[0m             n \u001B[38;5;241m=\u001B[39m \u001B[38;5;28mmax\u001B[39m(n,coordinate[item]\u001B[38;5;241m+\u001B[39m\u001B[38;5;241m1\u001B[39m)\n\u001B[0;32m     32\u001B[0m         \u001B[38;5;28;01melse\u001B[39;00m:\n\u001B[1;32m---> 33\u001B[0m             n \u001B[38;5;241m=\u001B[39m \u001B[38;5;28mmax\u001B[39m(n, \u001B[43mparitition\u001B[49m\u001B[43m(\u001B[49m\u001B[43mitem\u001B[49m\u001B[43m,\u001B[49m\u001B[38;5;241;43m1\u001B[39;49m\u001B[43m)\u001B[49m\u001B[38;5;241m+\u001B[39m\u001B[38;5;241m1\u001B[39m)\n\u001B[0;32m     34\u001B[0m \u001B[38;5;28;01mreturn\u001B[39;00m n\n",
      "Cell \u001B[1;32mIn[3], line 33\u001B[0m, in \u001B[0;36mSolution.longestIncreasingPath.<locals>.paritition\u001B[1;34m(coor, n)\u001B[0m\n\u001B[0;32m     31\u001B[0m             n \u001B[38;5;241m=\u001B[39m \u001B[38;5;28mmax\u001B[39m(n,coordinate[item]\u001B[38;5;241m+\u001B[39m\u001B[38;5;241m1\u001B[39m)\n\u001B[0;32m     32\u001B[0m         \u001B[38;5;28;01melse\u001B[39;00m:\n\u001B[1;32m---> 33\u001B[0m             n \u001B[38;5;241m=\u001B[39m \u001B[38;5;28mmax\u001B[39m(n, \u001B[43mparitition\u001B[49m\u001B[43m(\u001B[49m\u001B[43mitem\u001B[49m\u001B[43m,\u001B[49m\u001B[38;5;241;43m1\u001B[39;49m\u001B[43m)\u001B[49m\u001B[38;5;241m+\u001B[39m\u001B[38;5;241m1\u001B[39m)\n\u001B[0;32m     34\u001B[0m \u001B[38;5;28;01mreturn\u001B[39;00m n\n",
      "    \u001B[1;31m[... skipping similar frames: Solution.longestIncreasingPath.<locals>.paritition at line 33 (40 times)]\u001B[0m\n",
      "Cell \u001B[1;32mIn[3], line 33\u001B[0m, in \u001B[0;36mSolution.longestIncreasingPath.<locals>.paritition\u001B[1;34m(coor, n)\u001B[0m\n\u001B[0;32m     31\u001B[0m             n \u001B[38;5;241m=\u001B[39m \u001B[38;5;28mmax\u001B[39m(n,coordinate[item]\u001B[38;5;241m+\u001B[39m\u001B[38;5;241m1\u001B[39m)\n\u001B[0;32m     32\u001B[0m         \u001B[38;5;28;01melse\u001B[39;00m:\n\u001B[1;32m---> 33\u001B[0m             n \u001B[38;5;241m=\u001B[39m \u001B[38;5;28mmax\u001B[39m(n, \u001B[43mparitition\u001B[49m\u001B[43m(\u001B[49m\u001B[43mitem\u001B[49m\u001B[43m,\u001B[49m\u001B[38;5;241;43m1\u001B[39;49m\u001B[43m)\u001B[49m\u001B[38;5;241m+\u001B[39m\u001B[38;5;241m1\u001B[39m)\n\u001B[0;32m     34\u001B[0m \u001B[38;5;28;01mreturn\u001B[39;00m n\n",
      "Cell \u001B[1;32mIn[3], line 30\u001B[0m, in \u001B[0;36mSolution.longestIncreasingPath.<locals>.paritition\u001B[1;34m(coor, n)\u001B[0m\n\u001B[0;32m     27\u001B[0m \u001B[38;5;28;01mif\u001B[39;00m dispose[coor]:\n\u001B[0;32m     28\u001B[0m     \u001B[38;5;28;01mfor\u001B[39;00m item \u001B[38;5;129;01min\u001B[39;00m dispose[coor]:\n\u001B[0;32m     29\u001B[0m         \u001B[38;5;66;03m# 先判断坐标是否已经处理\u001B[39;00m\n\u001B[1;32m---> 30\u001B[0m         \u001B[38;5;28;01mif\u001B[39;00m \u001B[43mitem\u001B[49m\u001B[43m \u001B[49m\u001B[38;5;129;43;01min\u001B[39;49;00m\u001B[43m \u001B[49m\u001B[43mcoordinate\u001B[49m:\n\u001B[0;32m     31\u001B[0m             n \u001B[38;5;241m=\u001B[39m \u001B[38;5;28mmax\u001B[39m(n,coordinate[item]\u001B[38;5;241m+\u001B[39m\u001B[38;5;241m1\u001B[39m)\n\u001B[0;32m     32\u001B[0m         \u001B[38;5;28;01melse\u001B[39;00m:\n",
      "\u001B[1;31mKeyboardInterrupt\u001B[0m: "
     ]
    }
   ],
   "source": [
    "# TODO: 优化前\n",
    "class Solution:\n",
    "    def longestIncreasingPath(self, matrix) -> int:\n",
    "\n",
    "        # 保存每个位置的索引\n",
    "        dispose = {}\n",
    "        # 保存每个位置的最长长度\n",
    "        coordinate = {}\n",
    "\n",
    "        #SECTION: 先获取每个位置对应的索引\n",
    "        for i in range(len(matrix)):\n",
    "            for j in range(len(matrix[0])):\n",
    "\n",
    "                dispose[(i,j)] = []\n",
    "                if i > 0 and matrix[i-1][j] > matrix[i][j]:\n",
    "                    dispose[(i,j)].append((i-1,j))\n",
    "                if i < len(matrix)-1 and matrix[i+1][j] > matrix[i][j]:\n",
    "                    dispose[(i,j)].append((i+1,j))\n",
    "                if j > 0 and matrix[i][j-1] > matrix[i][j]:\n",
    "                    dispose[(i,j)].append((i,j-1))\n",
    "                if j < len(matrix[0])-1 and matrix[i][j+1] > matrix[i][j]:\n",
    "                    dispose[(i,j)].append((i,j+1))\n",
    "        # print(dispose)\n",
    "\n",
    "        # 动态规划，确定每个位置最大长度\n",
    "        def paritition(coor,n):\n",
    "            if dispose[coor]:\n",
    "                for item in dispose[coor]:\n",
    "                    # 先判断坐标是否已经处理\n",
    "                    if item in coordinate:\n",
    "                        n = max(n,coordinate[item]+1)\n",
    "                    else:\n",
    "                        n = max(n, paritition(item,1)+1)\n",
    "            return n\n",
    "\n",
    "        max_nums = 0\n",
    "        for i in dispose.keys():\n",
    "            coordinate[i]  = paritition(i,1)\n",
    "            max_nums = max(max_nums,coordinate[i])\n",
    "        return max_nums\n",
    "\n",
    "if __name__ == '__main__':\n",
    "    # matrix = [[9,9,4],[6,6,8],[2,1,1]]\n",
    "    matrix = [[0,1,2,3,4,5,6,7,8,9],[19,18,17,16,15,14,13,12,11,10],[20,21,22,23,24,25,26,27,28,29],[39,38,37,36,35,34,33,32,31,30],[40,41,42,43,44,45,46,47,48,49],[59,58,57,56,55,54,53,52,51,50],[60,61,62,63,64,65,66,67,68,69],[79,78,77,76,75,74,73,72,71,70],[80,81,82,83,84,85,86,87,88,89],[99,98,97,96,95,94,93,92,91,90],[100,101,102,103,104,105,106,107,108,109],[119,118,117,116,115,114,113,112,111,110],[120,121,122,123,124,125,126,127,128,129],[139,138,137,136,135,134,133,132,131,130],[0,0,0,0,0,0,0,0,0,0]]\n",
    "    result = Solution().longestIncreasingPath(matrix)\n",
    "    print(result)"
   ]
  },
  {
   "cell_type": "markdown",
   "source": [
    "![](../images/11_3.png)"
   ],
   "metadata": {
    "collapsed": false
   }
  },
  {
   "cell_type": "code",
   "execution_count": null,
   "outputs": [],
   "source": [
    "# 优化后\n",
    "from collections import defaultdict\n",
    "class Solution:\n",
    "    def longestIncreasingPath(self, matrix) -> int:\n",
    "\n",
    "        # 保存每个位置的索引\n",
    "        dispose = {}\n",
    "        # 保存每个位置的最长长度\n",
    "        coordinate = {}\n",
    "\n",
    "        # 放入坐标\n",
    "        def paritition(coor,n):\n",
    "            # 首先判断coor 是否处理\n",
    "            if coor in coordinate:\n",
    "                return coordinate[coor]\n",
    "\n",
    "            x, y = coor[0],coor[1]\n",
    "            # 判断左边是否存在索引\n",
    "            if x > 0 and matrix[x-1][y] > matrix[x][y]:\n",
    "                # 判断坐标是否已经处理\n",
    "                if (x-1,y) in coordinate:\n",
    "                    n = max(n, coordinate[(x-1,y)]+1)\n",
    "                else:\n",
    "                    n = max(n, paritition((x-1,y),1)+1)\n",
    "            # 判断右边是否存在索引\n",
    "            if x < len(matrix)-1 and matrix[x+1][y] > matrix[x][y]:\n",
    "                # 判断坐标是否已经处理\n",
    "                if (x+1,y) in coordinate:\n",
    "                    n = max(n, coordinate[(x+1,y)]+1)\n",
    "                else:\n",
    "                    n = max(n, paritition((x+1,y),1)+1)\n",
    "            if y > 0 and matrix[x][y-1] > matrix[x][y]:\n",
    "                # 判断坐标是否已经处理\n",
    "                if (x,y-1) in coordinate:\n",
    "                    n = max(n, coordinate[(x,y-1)]+1)\n",
    "                else:\n",
    "                    n = max(n, paritition((x,y-1),1)+1)\n",
    "            if y < len(matrix[0])-1 and matrix[x][y+1] > matrix[x][y]:\n",
    "                # 判断坐标是否已经处理\n",
    "                if (x,y+1) in coordinate:\n",
    "                    n = max(n, coordinate[(x,y+1)]+1)\n",
    "                else:\n",
    "                    n = max(n, paritition((x,y+1),1)+1)\n",
    "            coordinate[coor] = n\n",
    "            return n\n",
    "\n",
    "        max_nums = 0\n",
    "        for i in range(len(matrix)):\n",
    "            for j in range(len(matrix[0])):\n",
    "                max_nums = max(paritition((i,j),1), max_nums)\n",
    "        return max_nums"
   ],
   "metadata": {
    "collapsed": false
   }
  },
  {
   "cell_type": "markdown",
   "source": [
    "![](../images/11_4.png)"
   ],
   "metadata": {
    "collapsed": false
   }
  }
 ],
 "metadata": {
  "kernelspec": {
   "display_name": "Python 3",
   "language": "python",
   "name": "python3"
  },
  "language_info": {
   "codemirror_mode": {
    "name": "ipython",
    "version": 2
   },
   "file_extension": ".py",
   "mimetype": "text/x-python",
   "name": "python",
   "nbconvert_exporter": "python",
   "pygments_lexer": "ipython2",
   "version": "2.7.6"
  }
 },
 "nbformat": 4,
 "nbformat_minor": 0
}
