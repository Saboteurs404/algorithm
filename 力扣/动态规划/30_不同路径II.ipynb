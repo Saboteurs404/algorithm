{
 "cells": [
  {
   "cell_type": "markdown",
   "source": [
    "![](../images/30_1.png)"
   ],
   "metadata": {
    "collapsed": false
   }
  },
  {
   "cell_type": "code",
   "execution_count": 3,
   "metadata": {
    "collapsed": true
   },
   "outputs": [
    {
     "name": "stdout",
     "output_type": "stream",
     "text": [
      "2\n"
     ]
    }
   ],
   "source": [
    "from collections import defaultdict\n",
    "class Solution:\n",
    "    def uniquePathsWithObstacles(self, obstacleGrid) -> int:\n",
    "        DP = defaultdict(int)\n",
    "\n",
    "        row = len(obstacleGrid)\n",
    "        col = len(obstacleGrid[0])\n",
    "        for i in range(row):\n",
    "            for j in range(col):\n",
    "                if i == 0 and  j == 0:\n",
    "                    if obstacleGrid[i][j] == 1:\n",
    "                        return 0\n",
    "                    else:\n",
    "                        DP[(i,j)] = 1\n",
    "                elif obstacleGrid[i][j] == 1:\n",
    "                    continue\n",
    "                else:\n",
    "                    DP[(i, j)] = DP[(i-1, j)] + DP[(i, j-1)]\n",
    "        return DP[(row-1, col-1)]\n",
    "\n",
    "if __name__ == '__main__':\n",
    "    obstacleGrid = [[0,0,0],[0,1,0],[0,0,0]]\n",
    "    result = Solution().uniquePathsWithObstacles(obstacleGrid)\n",
    "    print(result)"
   ]
  },
  {
   "cell_type": "markdown",
   "source": [
    "![](../images/30_2.png)"
   ],
   "metadata": {
    "collapsed": false
   }
  },
  {
   "cell_type": "code",
   "execution_count": null,
   "outputs": [],
   "source": [],
   "metadata": {
    "collapsed": false
   }
  }
 ],
 "metadata": {
  "kernelspec": {
   "display_name": "Python 3",
   "language": "python",
   "name": "python3"
  },
  "language_info": {
   "codemirror_mode": {
    "name": "ipython",
    "version": 2
   },
   "file_extension": ".py",
   "mimetype": "text/x-python",
   "name": "python",
   "nbconvert_exporter": "python",
   "pygments_lexer": "ipython2",
   "version": "2.7.6"
  }
 },
 "nbformat": 4,
 "nbformat_minor": 0
}
