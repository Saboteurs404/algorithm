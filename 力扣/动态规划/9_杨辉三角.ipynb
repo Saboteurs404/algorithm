{
 "cells": [
  {
   "cell_type": "markdown",
   "source": [
    "![](../images/9_1.png)"
   ],
   "metadata": {
    "collapsed": false
   }
  },
  {
   "cell_type": "code",
   "execution_count": 1,
   "metadata": {
    "collapsed": true
   },
   "outputs": [
    {
     "name": "stdout",
     "output_type": "stream",
     "text": [
      "[[1], [1, 1], [1, 2, 1], [1, 3, 3, 1], [1, 4, 6, 4, 1], [1, 5, 10, 10, 5, 1]]\n"
     ]
    }
   ],
   "source": [
    "class Solution:\n",
    "    def __init__(self):\n",
    "        self.L = []\n",
    "        self.result = []\n",
    "    def generate(self, numRows: int):\n",
    "        # 存储规律算子\n",
    "        L = self.L\n",
    "        # 存储最终结果\n",
    "        result = self.result\n",
    "\n",
    "        for i in range(1,numRows+1):\n",
    "            # 存储层的列表\n",
    "            temp = []\n",
    "            for j in range(1,i+1):\n",
    "                if j == 1 or j == i:\n",
    "                    temp.append(1)\n",
    "                else:\n",
    "                    temp.append(L.pop(0))\n",
    "                if j >= 2:\n",
    "                    L.append(temp[j-2] + temp[j-1])\n",
    "            # print(temp)\n",
    "            result.append(temp)\n",
    "        return result\n",
    "\n",
    "if __name__ == '__main__':\n",
    "    numRows = 6\n",
    "    result = Solution().generate(numRows)\n",
    "    print(result)\n",
    "\n"
   ]
  },
  {
   "cell_type": "code",
   "execution_count": null,
   "outputs": [],
   "source": [],
   "metadata": {
    "collapsed": false
   }
  }
 ],
 "metadata": {
  "kernelspec": {
   "display_name": "Python 3",
   "language": "python",
   "name": "python3"
  },
  "language_info": {
   "codemirror_mode": {
    "name": "ipython",
    "version": 2
   },
   "file_extension": ".py",
   "mimetype": "text/x-python",
   "name": "python",
   "nbconvert_exporter": "python",
   "pygments_lexer": "ipython2",
   "version": "2.7.6"
  }
 },
 "nbformat": 4,
 "nbformat_minor": 0
}
