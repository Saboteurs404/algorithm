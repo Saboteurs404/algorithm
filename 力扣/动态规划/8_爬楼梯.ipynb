{
 "cells": [
  {
   "cell_type": "markdown",
   "source": [
    "![](../images/8_1.png)"
   ],
   "metadata": {
    "collapsed": false
   }
  },
  {
   "cell_type": "code",
   "execution_count": 2,
   "metadata": {
    "collapsed": true
   },
   "outputs": [
    {
     "name": "stdout",
     "output_type": "stream",
     "text": [
      "3\n"
     ]
    }
   ],
   "source": [
    "class Solution:\n",
    "    def __init__(self):\n",
    "        self.L = {}\n",
    "    def climbStairs(self, n: int) -> int:\n",
    "        L = self.L\n",
    "        for i in range(1,n+1):\n",
    "            if i == 1:\n",
    "                L[1] = 1\n",
    "            elif i == 2:\n",
    "                L[2] = 2\n",
    "            else:\n",
    "                L[i] = L[i-1] + L[i-2]\n",
    "        return L[n]\n",
    "\n",
    "if __name__ == '__main__':\n",
    "    n = 3\n",
    "    result = Solution().climbStairs(n)\n",
    "    print(result)\n",
    "\n",
    "\n",
    "\n",
    "\n",
    "\n",
    "\n",
    "\n"
   ]
  },
  {
   "cell_type": "code",
   "execution_count": null,
   "outputs": [],
   "source": [],
   "metadata": {
    "collapsed": false
   }
  }
 ],
 "metadata": {
  "kernelspec": {
   "display_name": "Python 3",
   "language": "python",
   "name": "python3"
  },
  "language_info": {
   "codemirror_mode": {
    "name": "ipython",
    "version": 2
   },
   "file_extension": ".py",
   "mimetype": "text/x-python",
   "name": "python",
   "nbconvert_exporter": "python",
   "pygments_lexer": "ipython2",
   "version": "2.7.6"
  }
 },
 "nbformat": 4,
 "nbformat_minor": 0
}
