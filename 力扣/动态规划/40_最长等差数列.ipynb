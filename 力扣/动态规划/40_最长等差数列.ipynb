{
 "cells": [
  {
   "cell_type": "markdown",
   "source": [
    "![](../images/40_1.png)"
   ],
   "metadata": {
    "collapsed": false
   }
  },
  {
   "cell_type": "code",
   "execution_count": 3,
   "metadata": {
    "collapsed": true
   },
   "outputs": [
    {
     "name": "stdout",
     "output_type": "stream",
     "text": [
      "4\n"
     ]
    }
   ],
   "source": [
    "from collections import defaultdict\n",
    "class Solution:\n",
    "    def longestArithSeqLength(self, nums) -> int:\n",
    "\n",
    "        def dispose(arr, different):\n",
    "            m = 1\n",
    "            DP = defaultdict(int)\n",
    "            for item in arr:\n",
    "                DP[item] = max(DP[item], DP[item - different] + 1)\n",
    "                m = max(DP[item], m)\n",
    "            return m\n",
    "\n",
    "        re = defaultdict(int)\n",
    "        ma = 2\n",
    "        for i in range(len(nums)):\n",
    "            for j in range(i):\n",
    "                if not re[nums[i] - nums[j]]:\n",
    "                    re[nums[i] - nums[j]] = dispose(nums, nums[i] - nums[j])\n",
    "                    # print(nums[i] - nums[j], re[nums[i] - nums[j]])\n",
    "                    ma = max(ma, re[nums[i] - nums[j]])\n",
    "        return ma\n",
    "\n",
    "if __name__ == '__main__':\n",
    "    nums = [20,1,15,3,10,5,8]\n",
    "    result = Solution().longestArithSeqLength(nums)\n",
    "    print(result)"
   ]
  },
  {
   "cell_type": "markdown",
   "source": [
    "![](../images/40_2.png)"
   ],
   "metadata": {
    "collapsed": false
   }
  }
 ],
 "metadata": {
  "kernelspec": {
   "display_name": "Python 3",
   "language": "python",
   "name": "python3"
  },
  "language_info": {
   "codemirror_mode": {
    "name": "ipython",
    "version": 2
   },
   "file_extension": ".py",
   "mimetype": "text/x-python",
   "name": "python",
   "nbconvert_exporter": "python",
   "pygments_lexer": "ipython2",
   "version": "2.7.6"
  }
 },
 "nbformat": 4,
 "nbformat_minor": 0
}
