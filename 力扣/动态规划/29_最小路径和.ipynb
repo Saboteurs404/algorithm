{
 "cells": [
  {
   "cell_type": "markdown",
   "source": [
    "![](../images/29_1.png)"
   ],
   "metadata": {
    "collapsed": false
   }
  },
  {
   "cell_type": "code",
   "execution_count": 2,
   "metadata": {
    "collapsed": true
   },
   "outputs": [
    {
     "name": "stdout",
     "output_type": "stream",
     "text": [
      "7\n"
     ]
    }
   ],
   "source": [
    "from collections import defaultdict\n",
    "class Solution:\n",
    "    def minPathSum(self, grid) -> int:\n",
    "        DP = defaultdict(int)\n",
    "\n",
    "        for i in range(len(grid)):\n",
    "            for j in range(len(grid[0])):\n",
    "                if i > 0 and j > 0:\n",
    "                    DP[(i, j)] = min(DP[(i-1, j)], DP[(i, j-1)]) + grid[i][j]\n",
    "                elif i > 0:\n",
    "                    DP[(i, j)] = DP[(i-1, j)] + grid[i][j]\n",
    "                elif j > 0:\n",
    "                    DP[(i, j)] = DP[(i, j-1)] + grid[i][j]\n",
    "                else:\n",
    "                    DP[(i, j)] = grid[0][0]\n",
    "        return DP[(len(grid)-1, len(grid[0])-1)]\n",
    "\n",
    "if __name__ == '__main__':\n",
    "    grid = [[1,3,1],[1,5,1],[4,2,1]]\n",
    "    result = Solution().minPathSum(grid)\n",
    "    print(result)"
   ]
  },
  {
   "cell_type": "markdown",
   "source": [
    "![](../images/29_2.png)"
   ],
   "metadata": {
    "collapsed": false
   }
  },
  {
   "cell_type": "code",
   "execution_count": null,
   "outputs": [],
   "source": [],
   "metadata": {
    "collapsed": false
   }
  }
 ],
 "metadata": {
  "kernelspec": {
   "display_name": "Python 3",
   "language": "python",
   "name": "python3"
  },
  "language_info": {
   "codemirror_mode": {
    "name": "ipython",
    "version": 2
   },
   "file_extension": ".py",
   "mimetype": "text/x-python",
   "name": "python",
   "nbconvert_exporter": "python",
   "pygments_lexer": "ipython2",
   "version": "2.7.6"
  }
 },
 "nbformat": 4,
 "nbformat_minor": 0
}
