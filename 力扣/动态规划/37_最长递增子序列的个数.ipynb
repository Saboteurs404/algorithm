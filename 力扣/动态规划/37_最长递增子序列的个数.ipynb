{
 "cells": [
  {
   "cell_type": "markdown",
   "source": [
    "![](../images/37_1.png)"
   ],
   "metadata": {
    "collapsed": false
   }
  },
  {
   "cell_type": "code",
   "execution_count": 2,
   "metadata": {
    "collapsed": true
   },
   "outputs": [
    {
     "name": "stdout",
     "output_type": "stream",
     "text": [
      "2\n"
     ]
    }
   ],
   "source": [
    "class Solution:\n",
    "    def findNumberOfLIS(self, nums) -> int:\n",
    "        if len(nums) == 1:\n",
    "            return 1\n",
    "        # 记录长度\n",
    "        DP = [0] * len(nums)\n",
    "        # 记录当前长度的种类\n",
    "        n = [1] * len(nums)\n",
    "        # 长度为1, 个数为1\n",
    "        DP[0] = 1\n",
    "        n[0] = 1\n",
    "\n",
    "        for i in range(1, len(nums)):\n",
    "            for j in range(i):\n",
    "                if nums[j] < nums[i]:\n",
    "                    if DP[j] > DP[i]:\n",
    "                        DP[i] = DP[j]\n",
    "                        n[i] = n[j]\n",
    "                    elif DP[j] == DP[i]:\n",
    "                        n[i] += n[j]\n",
    "            DP[i] += 1\n",
    "        m = max(DP)\n",
    "        result = 0\n",
    "        for i in range(len(DP)):\n",
    "            if DP[i] == m:\n",
    "                result += n[i]\n",
    "        return result\n",
    "\n",
    "if __name__ == '__main__':\n",
    "    nums = [1,3,5,4,7]\n",
    "    result = Solution().findNumberOfLIS(nums)\n",
    "    print(result)\n",
    "\n"
   ]
  },
  {
   "cell_type": "markdown",
   "source": [
    "![](../images/37_2.png)"
   ],
   "metadata": {
    "collapsed": false
   }
  }
 ],
 "metadata": {
  "kernelspec": {
   "display_name": "Python 3",
   "language": "python",
   "name": "python3"
  },
  "language_info": {
   "codemirror_mode": {
    "name": "ipython",
    "version": 2
   },
   "file_extension": ".py",
   "mimetype": "text/x-python",
   "name": "python",
   "nbconvert_exporter": "python",
   "pygments_lexer": "ipython2",
   "version": "2.7.6"
  }
 },
 "nbformat": 4,
 "nbformat_minor": 0
}
