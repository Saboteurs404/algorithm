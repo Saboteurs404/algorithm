{
 "cells": [
  {
   "cell_type": "markdown",
   "source": [
    "![](../images/26_1.png)"
   ],
   "metadata": {
    "collapsed": false
   }
  },
  {
   "cell_type": "code",
   "execution_count": 1,
   "metadata": {
    "collapsed": true
   },
   "outputs": [
    {
     "name": "stdout",
     "output_type": "stream",
     "text": [
      "6\n"
     ]
    }
   ],
   "source": [
    "class Solution:\n",
    "    def minCostClimbingStairs(self, cost) -> int:\n",
    "        T = {}\n",
    "        T[0] = cost[0]\n",
    "        T[1] = cost[1]\n",
    "\n",
    "        if len(cost) > 2:\n",
    "            for i in range(2,len(cost)+1):\n",
    "                if i <= len(cost) - 1:\n",
    "                    T[i] = min(T[i-1], T[i-2]) + cost[i]\n",
    "                else:\n",
    "                    T[i] = min(T[i-1],T[i-2])\n",
    "        else:\n",
    "            return min(T[0],T[1])\n",
    "        return T[len(cost)]\n",
    "\n",
    "if __name__ == '__main__':\n",
    "    cost = [1,100,1,1,1,100,1,1,100,1]\n",
    "    result = Solution().minCostClimbingStairs(cost)\n",
    "    print(result)"
   ]
  },
  {
   "cell_type": "markdown",
   "source": [
    "![](../images/26_2.png)"
   ],
   "metadata": {
    "collapsed": false
   }
  },
  {
   "cell_type": "code",
   "execution_count": null,
   "outputs": [],
   "source": [],
   "metadata": {
    "collapsed": false
   }
  }
 ],
 "metadata": {
  "kernelspec": {
   "display_name": "Python 3",
   "language": "python",
   "name": "python3"
  },
  "language_info": {
   "codemirror_mode": {
    "name": "ipython",
    "version": 2
   },
   "file_extension": ".py",
   "mimetype": "text/x-python",
   "name": "python",
   "nbconvert_exporter": "python",
   "pygments_lexer": "ipython2",
   "version": "2.7.6"
  }
 },
 "nbformat": 4,
 "nbformat_minor": 0
}
