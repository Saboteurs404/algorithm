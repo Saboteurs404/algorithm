{
 "cells": [
  {
   "cell_type": "markdown",
   "source": [
    "![](../images/27_1.png)"
   ],
   "metadata": {
    "collapsed": false
   }
  },
  {
   "cell_type": "code",
   "execution_count": 1,
   "metadata": {
    "collapsed": true
   },
   "outputs": [
    {
     "name": "stdout",
     "output_type": "stream",
     "text": [
      "9\n"
     ]
    }
   ],
   "source": [
    "from collections import defaultdict\n",
    "class Solution:\n",
    "    def deleteAndEarn(self, nums) -> int:\n",
    "        DP = defaultdict(int)\n",
    "        mx = max(nums)\n",
    "        # 得到每个数的总和\n",
    "        for item in set(nums):\n",
    "            DP[item] = item * nums.count(item)\n",
    "\n",
    "        result = {}\n",
    "        result[0] = DP[0]\n",
    "        result[1] = DP[1]\n",
    "        result[2] = DP[2]\n",
    "\n",
    "        # 把其变得连续\n",
    "        for i in range(3,mx+1):\n",
    "            result[i] = max(result[i-2], result[i-3]) + DP[i]\n",
    "\n",
    "        return max(result[mx], result[mx-1])\n",
    "\n",
    "if __name__ == '__main__':\n",
    "    nums = [2,2,3,3,3,4]\n",
    "    result = Solution().deleteAndEarn(nums)\n",
    "    print(result)\n"
   ]
  },
  {
   "cell_type": "markdown",
   "source": [
    "![](../images/27_2.png)"
   ],
   "metadata": {
    "collapsed": false
   }
  },
  {
   "cell_type": "code",
   "execution_count": null,
   "outputs": [],
   "source": [],
   "metadata": {
    "collapsed": false
   }
  }
 ],
 "metadata": {
  "kernelspec": {
   "display_name": "Python 3",
   "language": "python",
   "name": "python3"
  },
  "language_info": {
   "codemirror_mode": {
    "name": "ipython",
    "version": 2
   },
   "file_extension": ".py",
   "mimetype": "text/x-python",
   "name": "python",
   "nbconvert_exporter": "python",
   "pygments_lexer": "ipython2",
   "version": "2.7.6"
  }
 },
 "nbformat": 4,
 "nbformat_minor": 0
}
