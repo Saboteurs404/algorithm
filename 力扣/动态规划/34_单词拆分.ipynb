{
 "cells": [
  {
   "cell_type": "markdown",
   "source": [
    "![](../images/34_1.png)"
   ],
   "metadata": {
    "collapsed": false
   }
  },
  {
   "cell_type": "code",
   "execution_count": 2,
   "metadata": {
    "collapsed": true
   },
   "outputs": [
    {
     "name": "stdout",
     "output_type": "stream",
     "text": [
      "False\n"
     ]
    }
   ],
   "source": [
    "# TODO: 方法一：动态规划\n",
    "class Solution:\n",
    "    def wordBreak(self, s: str, wordDict) -> bool:\n",
    "        DP = [False] * (len(s) + 1)\n",
    "        DP[0] = True\n",
    "\n",
    "        for i in range(len(s)):\n",
    "            for j in range(i+1, len(s)+1):\n",
    "                if s[i:j] in wordDict and DP[i]:\n",
    "                    DP[j] = True\n",
    "\n",
    "        return DP[-1]\n",
    "\n",
    "if __name__ == '__main__':\n",
    "    s = \"catsandog\"\n",
    "    wordDict = [\"cats\", \"dog\", \"sand\", \"and\", \"cat\"]\n",
    "    result = Solution().wordBreak(s,wordDict)\n",
    "    print(result)\n",
    "\n"
   ]
  },
  {
   "cell_type": "markdown",
   "source": [
    "![](../images/34_2.png)"
   ],
   "metadata": {
    "collapsed": false
   }
  },
  {
   "cell_type": "code",
   "execution_count": 2,
   "outputs": [],
   "source": [],
   "metadata": {
    "collapsed": false
   }
  }
 ],
 "metadata": {
  "kernelspec": {
   "display_name": "Python 3",
   "language": "python",
   "name": "python3"
  },
  "language_info": {
   "codemirror_mode": {
    "name": "ipython",
    "version": 2
   },
   "file_extension": ".py",
   "mimetype": "text/x-python",
   "name": "python",
   "nbconvert_exporter": "python",
   "pygments_lexer": "ipython2",
   "version": "2.7.6"
  }
 },
 "nbformat": 4,
 "nbformat_minor": 0
}
