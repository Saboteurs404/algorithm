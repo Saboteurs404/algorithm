{
 "cells": [
  {
   "cell_type": "markdown",
   "source": [
    "![](../images/39_1.png)"
   ],
   "metadata": {
    "collapsed": false
   }
  },
  {
   "cell_type": "code",
   "execution_count": 3,
   "metadata": {
    "collapsed": true
   },
   "outputs": [
    {
     "name": "stdout",
     "output_type": "stream",
     "text": [
      "4\n"
     ]
    }
   ],
   "source": [
    "from collections import defaultdict\n",
    "class Solution:\n",
    "    def longestSubsequence(self, arr, difference: int) -> int:\n",
    "        # 空间换时间\n",
    "        DP = defaultdict(int)\n",
    "        m = 1\n",
    "        for item in arr:\n",
    "                DP[item] = max(DP[item], DP[item - difference] + 1)\n",
    "                m = max(m, DP[item])\n",
    "        return m\n",
    "\n",
    "if __name__ == '__main__':\n",
    "    arr = [1,2,3,4]\n",
    "    difference = 1\n",
    "    result = Solution().longestSubsequence(arr, difference)\n",
    "    print(result)"
   ]
  },
  {
   "cell_type": "markdown",
   "source": [
    "![](../images/39_2.png)"
   ],
   "metadata": {
    "collapsed": false
   }
  },
  {
   "cell_type": "code",
   "execution_count": 4,
   "outputs": [
    {
     "name": "stdout",
     "output_type": "stream",
     "text": [
      "4\n"
     ]
    }
   ],
   "source": [
    "from collections import defaultdict\n",
    "class Solution1:\n",
    "    def longestSubsequence(self, arr, difference: int) -> int:\n",
    "        # 空间换时间\n",
    "        DP = [1] * len(arr)\n",
    "        m = 1\n",
    "        for i in range(len(arr)):\n",
    "            for j in range(i):\n",
    "                if arr[i] - difference == arr[j]:\n",
    "                    DP[i] = max(DP[j] + 1, DP[i])\n",
    "                    if DP[i] > m:\n",
    "                        m = DP[i]\n",
    "        return m\n",
    "\n",
    "if __name__ == '__main__':\n",
    "    arr = [1,2,3,4]\n",
    "    difference = 1\n",
    "    result = Solution1().longestSubsequence(arr, difference)\n",
    "    print(result)"
   ],
   "metadata": {
    "collapsed": false
   }
  },
  {
   "cell_type": "markdown",
   "source": [
    "![](../images/39_3.png)"
   ],
   "metadata": {
    "collapsed": false
   }
  },
  {
   "cell_type": "code",
   "execution_count": 4,
   "outputs": [],
   "source": [],
   "metadata": {
    "collapsed": false
   }
  }
 ],
 "metadata": {
  "kernelspec": {
   "display_name": "Python 3",
   "language": "python",
   "name": "python3"
  },
  "language_info": {
   "codemirror_mode": {
    "name": "ipython",
    "version": 2
   },
   "file_extension": ".py",
   "mimetype": "text/x-python",
   "name": "python",
   "nbconvert_exporter": "python",
   "pygments_lexer": "ipython2",
   "version": "2.7.6"
  }
 },
 "nbformat": 4,
 "nbformat_minor": 0
}
