{
 "cells": [
  {
   "cell_type": "markdown",
   "source": [
    "![](../images/25_1.png)"
   ],
   "metadata": {
    "collapsed": false
   }
  },
  {
   "cell_type": "code",
   "execution_count": 1,
   "metadata": {
    "collapsed": true
   },
   "outputs": [
    {
     "name": "stdout",
     "output_type": "stream",
     "text": [
      "3\n"
     ]
    }
   ],
   "source": [
    "from collections import defaultdict\n",
    "class Solution:\n",
    "    def fib(self, n: int) -> int:\n",
    "        F = defaultdict(int)\n",
    "        F[0] = 0\n",
    "        F[1] = 1\n",
    "        if n > 1:\n",
    "            for i in range(2,n+1):\n",
    "                F[i] = F[i-1] + F[i-2]\n",
    "        return F[n]\n",
    "\n",
    "if __name__ == '__main__':\n",
    "    n = 4\n",
    "    result = Solution().fib(n)\n",
    "    print(result)"
   ]
  },
  {
   "cell_type": "code",
   "execution_count": null,
   "outputs": [],
   "source": [],
   "metadata": {
    "collapsed": false
   }
  }
 ],
 "metadata": {
  "kernelspec": {
   "display_name": "Python 3",
   "language": "python",
   "name": "python3"
  },
  "language_info": {
   "codemirror_mode": {
    "name": "ipython",
    "version": 2
   },
   "file_extension": ".py",
   "mimetype": "text/x-python",
   "name": "python",
   "nbconvert_exporter": "python",
   "pygments_lexer": "ipython2",
   "version": "2.7.6"
  }
 },
 "nbformat": 4,
 "nbformat_minor": 0
}
