{
 "cells": [
  {
   "cell_type": "markdown",
   "source": [
    "![](../images/35_1.png)"
   ],
   "metadata": {
    "collapsed": false
   }
  },
  {
   "cell_type": "code",
   "execution_count": 1,
   "metadata": {
    "collapsed": true
   },
   "outputs": [
    {
     "name": "stdout",
     "output_type": "stream",
     "text": [
      "4\n"
     ]
    }
   ],
   "source": [
    "from collections import defaultdict\n",
    "class Solution:\n",
    "    def longestPalindromeSubseq(self, s: str) -> int:\n",
    "        n = len(s)\n",
    "        DP = defaultdict(int)\n",
    "\n",
    "        for i in range(n-1, -1, -1):\n",
    "            DP[(i, i)] = 1\n",
    "            for j in range(i+1, n):\n",
    "\n",
    "                if s[i] == s[j]:\n",
    "                    DP[(i, j)] = DP[(i+1, j-1)] + 2\n",
    "                else:\n",
    "                    DP[(i, j)] = max(DP[(i+1, j)], DP[(i, j-1)])\n",
    "        return DP[0, n-1]\n",
    "\n",
    "if __name__ == '__main__':\n",
    "    s = \"bbbab\"\n",
    "    result = Solution().longestPalindromeSubseq(s)\n",
    "    print(result)"
   ]
  },
  {
   "cell_type": "markdown",
   "source": [
    "![](../images/35_2.png)"
   ],
   "metadata": {
    "collapsed": false
   }
  },
  {
   "cell_type": "code",
   "execution_count": null,
   "outputs": [],
   "source": [
    "chr()"
   ],
   "metadata": {
    "collapsed": false
   }
  }
 ],
 "metadata": {
  "kernelspec": {
   "display_name": "Python 3",
   "language": "python",
   "name": "python3"
  },
  "language_info": {
   "codemirror_mode": {
    "name": "ipython",
    "version": 2
   },
   "file_extension": ".py",
   "mimetype": "text/x-python",
   "name": "python",
   "nbconvert_exporter": "python",
   "pygments_lexer": "ipython2",
   "version": "2.7.6"
  }
 },
 "nbformat": 4,
 "nbformat_minor": 0
}
