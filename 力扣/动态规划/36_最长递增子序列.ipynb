{
 "cells": [
  {
   "cell_type": "markdown",
   "source": [
    "![](../images/36_1.png)"
   ],
   "metadata": {
    "collapsed": false
   }
  },
  {
   "cell_type": "code",
   "execution_count": 2,
   "metadata": {
    "collapsed": true
   },
   "outputs": [
    {
     "name": "stdout",
     "output_type": "stream",
     "text": [
      "4\n"
     ]
    }
   ],
   "source": [
    "class Solution:\n",
    "    def lengthOfLIS(self, nums) -> int:\n",
    "        if len(nums) == 1:\n",
    "            return 1\n",
    "\n",
    "        DP = [0] * len(nums)\n",
    "        DP[0] = 1\n",
    "        l = 0\n",
    "\n",
    "        for i in range(1, len(nums)):\n",
    "            for j in range(i):\n",
    "                if nums[j] < nums[i]:\n",
    "                    DP[i] = max(DP[j], DP[i])\n",
    "            DP[i] += 1\n",
    "            l = max(DP[i], l)\n",
    "        return l\n",
    "\n",
    "if __name__ == '__main__':\n",
    "    nums = [10,9,2,5,3,7,101,18]\n",
    "    result = Solution().lengthOfLIS(nums)\n",
    "    print(result)\n",
    "\n",
    "\n"
   ]
  },
  {
   "cell_type": "markdown",
   "source": [
    "![](../images/36_2.png)"
   ],
   "metadata": {
    "collapsed": false
   }
  }
 ],
 "metadata": {
  "kernelspec": {
   "display_name": "Python 3",
   "language": "python",
   "name": "python3"
  },
  "language_info": {
   "codemirror_mode": {
    "name": "ipython",
    "version": 2
   },
   "file_extension": ".py",
   "mimetype": "text/x-python",
   "name": "python",
   "nbconvert_exporter": "python",
   "pygments_lexer": "ipython2",
   "version": "2.7.6"
  }
 },
 "nbformat": 4,
 "nbformat_minor": 0
}
