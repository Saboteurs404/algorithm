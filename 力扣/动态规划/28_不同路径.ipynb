{
 "cells": [
  {
   "cell_type": "markdown",
   "source": [
    "![](../images/28_1.png)"
   ],
   "metadata": {
    "collapsed": false
   }
  },
  {
   "cell_type": "code",
   "execution_count": 1,
   "metadata": {
    "collapsed": true
   },
   "outputs": [
    {
     "name": "stdout",
     "output_type": "stream",
     "text": [
      "28\n"
     ]
    }
   ],
   "source": [
    "from collections import defaultdict\n",
    "class Solution:\n",
    "    def uniquePaths(self, m: int, n: int) -> int:\n",
    "        start = (0,0)\n",
    "        end = (m-1, n-1)\n",
    "        coordinate = defaultdict(int)\n",
    "        coordinate[(0, 0)] = 1\n",
    "        # coordinate[(1, 0)] = 1\n",
    "\n",
    "        for i in range(m):\n",
    "            for j in range(n):\n",
    "                if i > 0 or j > 0:\n",
    "                    coordinate[(i, j)] = coordinate[(i-1, j)] + coordinate[(i, j-1)]\n",
    "        return coordinate[(m-1, n-1)]\n",
    "\n",
    "if __name__ == '__main__':\n",
    "    m = 3\n",
    "    n = 7\n",
    "    result = Solution().uniquePaths(m, n)\n",
    "    print(result)\n"
   ]
  },
  {
   "cell_type": "markdown",
   "source": [
    "![](../images/28_2.png)"
   ],
   "metadata": {
    "collapsed": false
   }
  },
  {
   "cell_type": "code",
   "execution_count": null,
   "outputs": [],
   "source": [],
   "metadata": {
    "collapsed": false
   }
  }
 ],
 "metadata": {
  "kernelspec": {
   "display_name": "Python 3",
   "language": "python",
   "name": "python3"
  },
  "language_info": {
   "codemirror_mode": {
    "name": "ipython",
    "version": 2
   },
   "file_extension": ".py",
   "mimetype": "text/x-python",
   "name": "python",
   "nbconvert_exporter": "python",
   "pygments_lexer": "ipython2",
   "version": "2.7.6"
  }
 },
 "nbformat": 4,
 "nbformat_minor": 0
}
