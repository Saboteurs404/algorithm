{
 "cells": [
  {
   "cell_type": "markdown",
   "source": [
    "![](../images/32_1.png)\n",
    "![](../images/32_2.png)"
   ],
   "metadata": {
    "collapsed": false
   }
  },
  {
   "cell_type": "code",
   "execution_count": 1,
   "metadata": {
    "collapsed": true
   },
   "outputs": [
    {
     "name": "stdout",
     "output_type": "stream",
     "text": [
      "13\n"
     ]
    }
   ],
   "source": [
    "class Solution:\n",
    "    def minFallingPathSum(self, matrix) -> int:\n",
    "\n",
    "        DP = {}\n",
    "        row = len(matrix)\n",
    "        col = len(matrix[0])\n",
    "\n",
    "        mx = 0\n",
    "        for i in range(row):\n",
    "            for j in range(col):\n",
    "\n",
    "                if i == 0:\n",
    "                    DP[(i, j)] = matrix[i][j]\n",
    "                elif j == 0:\n",
    "                    DP[(i, j)] = min(DP[(i-1, j)], DP[(i-1, j+1)]) + matrix[i][j]\n",
    "                elif j == col - 1:\n",
    "                    DP[(i, j)] = min(DP[(i-1, j-1)], DP[(i-1, j)]) + matrix[i][j]\n",
    "                else:\n",
    "                    DP[(i, j)] = min(DP[(i-1, j-1)], DP[(i-1, j)], DP[(i-1, j+1)]) + matrix[i][j]\n",
    "\n",
    "\n",
    "                # 判断是否是最后一行\n",
    "                if i == row - 1:\n",
    "                    if j == 0:\n",
    "                        mx = DP[(i, j)]\n",
    "                    else:\n",
    "                        mx = min(mx, DP[(i, j)])\n",
    "        return mx\n",
    "\n",
    "if __name__ == '__main__':\n",
    "    matrix = [[2,1,3],[6,5,4],[7,8,9]]\n",
    "    result = Solution().minFallingPathSum(matrix)\n",
    "    print(result)"
   ]
  },
  {
   "cell_type": "markdown",
   "source": [
    "![](../images/32_3.png)"
   ],
   "metadata": {
    "collapsed": false
   }
  },
  {
   "cell_type": "code",
   "execution_count": null,
   "outputs": [],
   "source": [],
   "metadata": {
    "collapsed": false
   }
  }
 ],
 "metadata": {
  "kernelspec": {
   "display_name": "Python 3",
   "language": "python",
   "name": "python3"
  },
  "language_info": {
   "codemirror_mode": {
    "name": "ipython",
    "version": 2
   },
   "file_extension": ".py",
   "mimetype": "text/x-python",
   "name": "python",
   "nbconvert_exporter": "python",
   "pygments_lexer": "ipython2",
   "version": "2.7.6"
  }
 },
 "nbformat": 4,
 "nbformat_minor": 0
}
