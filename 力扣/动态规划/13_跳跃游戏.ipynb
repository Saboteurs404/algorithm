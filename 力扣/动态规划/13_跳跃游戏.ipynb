{
 "cells": [
  {
   "cell_type": "markdown",
   "source": [
    "![](../images/13_1.png)"
   ],
   "metadata": {
    "collapsed": false
   }
  },
  {
   "cell_type": "code",
   "execution_count": 2,
   "metadata": {
    "collapsed": true
   },
   "outputs": [
    {
     "name": "stdout",
     "output_type": "stream",
     "text": [
      "True\n"
     ]
    }
   ],
   "source": [
    "class Solution:\n",
    "    def canJump(self, nums) -> bool:\n",
    "        # 初始化坐标位置\n",
    "        coordinate = len(nums) - 1\n",
    "        # 当坐标位置位于起始位置时，退出\n",
    "        while coordinate:\n",
    "            for i in range(coordinate):\n",
    "                # 如果从当前坐标可以直接到达目标坐标\n",
    "                if nums[i] >= coordinate - i:\n",
    "                    coordinate = i\n",
    "                    break\n",
    "                # 判断是否不能到达\n",
    "                if i == coordinate -1 and nums[i] < coordinate - i:\n",
    "                    return False\n",
    "        return True\n",
    "\n",
    "if __name__ == '__main__':\n",
    "    nums = [2,3,1,1,4]\n",
    "    result = Solution().canJump(nums)\n",
    "    print(result)\n"
   ]
  },
  {
   "cell_type": "markdown",
   "source": [
    "![](../images/13_2.png)"
   ],
   "metadata": {
    "collapsed": false
   }
  },
  {
   "cell_type": "code",
   "execution_count": null,
   "outputs": [],
   "source": [],
   "metadata": {
    "collapsed": false
   }
  }
 ],
 "metadata": {
  "kernelspec": {
   "display_name": "Python 3",
   "language": "python",
   "name": "python3"
  },
  "language_info": {
   "codemirror_mode": {
    "name": "ipython",
    "version": 2
   },
   "file_extension": ".py",
   "mimetype": "text/x-python",
   "name": "python",
   "nbconvert_exporter": "python",
   "pygments_lexer": "ipython2",
   "version": "2.7.6"
  }
 },
 "nbformat": 4,
 "nbformat_minor": 0
}
