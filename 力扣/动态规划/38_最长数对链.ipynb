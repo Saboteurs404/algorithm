{
 "cells": [
  {
   "cell_type": "markdown",
   "source": [
    "![](../images/38_1.png)"
   ],
   "metadata": {
    "collapsed": false
   }
  },
  {
   "cell_type": "code",
   "execution_count": 2,
   "metadata": {
    "collapsed": true
   },
   "outputs": [
    {
     "name": "stdout",
     "output_type": "stream",
     "text": [
      "3\n"
     ]
    }
   ],
   "source": [
    "class Solution:\n",
    "    def findLongestChain(self, pairs) -> int:\n",
    "        DP = [0] * len(pairs)\n",
    "\n",
    "        def dispose(i):\n",
    "            for j in range(len(pairs)):\n",
    "                if i == j:\n",
    "                    continue\n",
    "                elif pairs[i][0] > pairs[j][1]:\n",
    "                    if not DP[j]:\n",
    "                        dispose(j)\n",
    "                    DP[i] = max(DP[i], DP[j] + 1)\n",
    "\n",
    "            if not DP[i]:\n",
    "                DP[i] = 1\n",
    "\n",
    "\n",
    "        for i in range(0, len(pairs)):\n",
    "            dispose(i)\n",
    "        return max(DP)\n",
    "\n",
    "if __name__ == '__main__':\n",
    "    pairs = [[1,2],[7,8],[4,5]]\n",
    "    result = Solution().findLongestChain(pairs)\n",
    "    print(result)"
   ]
  },
  {
   "cell_type": "markdown",
   "source": [
    "![](../images/38_2.png)"
   ],
   "metadata": {
    "collapsed": false
   }
  }
 ],
 "metadata": {
  "kernelspec": {
   "display_name": "Python 3",
   "language": "python",
   "name": "python3"
  },
  "language_info": {
   "codemirror_mode": {
    "name": "ipython",
    "version": 2
   },
   "file_extension": ".py",
   "mimetype": "text/x-python",
   "name": "python",
   "nbconvert_exporter": "python",
   "pygments_lexer": "ipython2",
   "version": "2.7.6"
  }
 },
 "nbformat": 4,
 "nbformat_minor": 0
}
