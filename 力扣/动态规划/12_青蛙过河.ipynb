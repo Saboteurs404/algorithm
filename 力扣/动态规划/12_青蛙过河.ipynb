{
 "cells": [
  {
   "cell_type": "markdown",
   "source": [
    "![](../images/12_1.png)"
   ],
   "metadata": {
    "collapsed": false
   }
  },
  {
   "cell_type": "code",
   "execution_count": 1,
   "metadata": {
    "collapsed": true
   },
   "outputs": [
    {
     "name": "stdout",
     "output_type": "stream",
     "text": [
      "True\n"
     ]
    }
   ],
   "source": [
    "from collections import defaultdict\n",
    "class Solution:\n",
    "    def canCross(self, stones) -> bool:\n",
    "        # 边界值处理\n",
    "        if len(stones) < 3:\n",
    "            if stones[1] == 1:\n",
    "                return True\n",
    "            else:\n",
    "                return False\n",
    "\n",
    "        L = defaultdict(set)\n",
    "        L[1] = {1}\n",
    "        for i in stones[2:]:\n",
    "            # 临时存储L\n",
    "            temp = defaultdict(set)\n",
    "            # 遍历动态表中所有key,value，所有值都被存储会过大\n",
    "            for j, val in L.items():\n",
    "                # 如果某个val为空则不符合条件——>跳出本次循环\n",
    "                if val == None:\n",
    "                    continue\n",
    "                #循环所有可能的距离\n",
    "                for n in val:\n",
    "                     # 存储部分值\n",
    "                    if n >= i-j:\n",
    "                        temp[j] = L[j]\n",
    "                    if j + n - 1 <= i <= j + n + 1:\n",
    "                        temp[i].add(i-j)\n",
    "            L = temp\n",
    "        if L[stones[-1]]:\n",
    "            return True\n",
    "        else:\n",
    "            return False\n",
    "\n",
    "if __name__ == '__main__':\n",
    "    stones = [0,1,3,6,10,15,16,21]\n",
    "    result = Solution().canCross(stones)\n",
    "    print(result)"
   ]
  },
  {
   "cell_type": "code",
   "execution_count": null,
   "outputs": [],
   "source": [],
   "metadata": {
    "collapsed": false
   }
  }
 ],
 "metadata": {
  "kernelspec": {
   "display_name": "Python 3",
   "language": "python",
   "name": "python3"
  },
  "language_info": {
   "codemirror_mode": {
    "name": "ipython",
    "version": 2
   },
   "file_extension": ".py",
   "mimetype": "text/x-python",
   "name": "python",
   "nbconvert_exporter": "python",
   "pygments_lexer": "ipython2",
   "version": "2.7.6"
  }
 },
 "nbformat": 4,
 "nbformat_minor": 0
}
