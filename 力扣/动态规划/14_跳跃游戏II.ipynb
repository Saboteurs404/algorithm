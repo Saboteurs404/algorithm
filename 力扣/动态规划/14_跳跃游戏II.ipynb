{
 "cells": [
  {
   "cell_type": "markdown",
   "source": [
    "![](../images/14_1.png)"
   ],
   "metadata": {
    "collapsed": false
   }
  },
  {
   "cell_type": "code",
   "execution_count": 2,
   "metadata": {
    "collapsed": true
   },
   "outputs": [
    {
     "name": "stdout",
     "output_type": "stream",
     "text": [
      "2\n"
     ]
    }
   ],
   "source": [
    "class Solution:\n",
    "    def jump(self, nums) -> int:\n",
    "        coordinate = len(nums)-1\n",
    "        temp = 0\n",
    "        while coordinate:\n",
    "            if coordinate == len(nums) - 1:\n",
    "                temp = 0\n",
    "            for i in range(len(nums)-1):\n",
    "                if nums[i] >= coordinate - i:\n",
    "                    coordinate = i\n",
    "                    temp += 1\n",
    "                    break\n",
    "        return temp\n",
    "\n",
    "if __name__ == '__main__':\n",
    "    nums = [2,3,1,1,4]\n",
    "    result = Solution().jump(nums)\n",
    "    print(result)"
   ]
  },
  {
   "cell_type": "markdown",
   "source": [
    "![](../images/14_2.png)"
   ],
   "metadata": {
    "collapsed": false
   }
  },
  {
   "cell_type": "code",
   "execution_count": null,
   "outputs": [],
   "source": [],
   "metadata": {
    "collapsed": false
   }
  }
 ],
 "metadata": {
  "kernelspec": {
   "display_name": "Python 3",
   "language": "python",
   "name": "python3"
  },
  "language_info": {
   "codemirror_mode": {
    "name": "ipython",
    "version": 2
   },
   "file_extension": ".py",
   "mimetype": "text/x-python",
   "name": "python",
   "nbconvert_exporter": "python",
   "pygments_lexer": "ipython2",
   "version": "2.7.6"
  }
 },
 "nbformat": 4,
 "nbformat_minor": 0
}
