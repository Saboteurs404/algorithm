{
 "cells": [
  {
   "cell_type": "markdown",
   "source": [
    "![](../images/31_1.png)"
   ],
   "metadata": {
    "collapsed": false
   }
  },
  {
   "cell_type": "code",
   "execution_count": 1,
   "metadata": {
    "collapsed": true
   },
   "outputs": [
    {
     "name": "stdout",
     "output_type": "stream",
     "text": [
      "11\n"
     ]
    }
   ],
   "source": [
    "class Solution:\n",
    "    def minimumTotal(self, triangle) -> int:\n",
    "        DP = {}\n",
    "        mx = 0\n",
    "        for i in range(1, len(triangle) + 1):\n",
    "            for j in range(1, i+1):\n",
    "                if i == 1 and j == 1:\n",
    "                    DP[(1, 1)] = triangle[0][0]\n",
    "                elif j == 1:\n",
    "                    DP[(i, j)] = DP[(i-1, j)] + triangle[i-1][j-1]\n",
    "                elif j == i:\n",
    "                    DP[(i, j)] = DP[(i-1, j-1)] + triangle[i-1][j-1]\n",
    "                else:\n",
    "                    DP[(i, j)] = min(DP[(i-1, j-1)], DP[(i-1, j)]) + triangle[i-1][j-1]\n",
    "\n",
    "                # 保留最后一行值\n",
    "                if i == len(triangle):\n",
    "                    if j == 1:\n",
    "                        mx = DP[(i, j)]\n",
    "                    else:\n",
    "                        mx = min(mx, DP[(i, j)])\n",
    "        return mx\n",
    "\n",
    "if __name__ == '__main__':\n",
    "    triangle = [[2],[3,4],[6,5,7],[4,1,8,3]]\n",
    "    result = Solution().minimumTotal(triangle)\n",
    "    print(result)\n",
    "\n",
    "\n",
    "\n",
    "\n",
    "\n",
    "\n"
   ]
  },
  {
   "cell_type": "markdown",
   "source": [
    "![](../images/31_2.png)"
   ],
   "metadata": {
    "collapsed": false
   }
  },
  {
   "cell_type": "code",
   "execution_count": null,
   "outputs": [],
   "source": [],
   "metadata": {
    "collapsed": false
   }
  }
 ],
 "metadata": {
  "kernelspec": {
   "display_name": "Python 3",
   "language": "python",
   "name": "python3"
  },
  "language_info": {
   "codemirror_mode": {
    "name": "ipython",
    "version": 2
   },
   "file_extension": ".py",
   "mimetype": "text/x-python",
   "name": "python",
   "nbconvert_exporter": "python",
   "pygments_lexer": "ipython2",
   "version": "2.7.6"
  }
 },
 "nbformat": 4,
 "nbformat_minor": 0
}
