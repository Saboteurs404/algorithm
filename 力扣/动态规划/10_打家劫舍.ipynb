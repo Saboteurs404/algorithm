{
 "cells": [
  {
   "cell_type": "markdown",
   "source": [
    "![](../images/10_1.png)"
   ],
   "metadata": {
    "collapsed": false
   }
  },
  {
   "cell_type": "code",
   "execution_count": 1,
   "metadata": {
    "collapsed": true
   },
   "outputs": [
    {
     "name": "stdout",
     "output_type": "stream",
     "text": [
      "12\n"
     ]
    }
   ],
   "source": [
    "from functools import reduce\n",
    "class Solution:\n",
    "    def rob(self, nums) -> int:\n",
    "        if len(nums) == 1:\n",
    "            return nums[0]\n",
    "\n",
    "        if len(nums) < 4:\n",
    "            i = 0\n",
    "            j = 1\n",
    "            sum_1 = reduce(lambda x,y: x+y, [nums[i] for i in range(0,len(nums),2)])\n",
    "            sum_2 = reduce(lambda x,y :x+y, [nums[i] for i in range(1, len(nums),2)])\n",
    "            return max(sum_1,sum_2)\n",
    "\n",
    "        # 动态规划\n",
    "        L = {}\n",
    "        L[1] = nums[0]\n",
    "        L[2] = nums[1]\n",
    "        L[3] = L[1] + nums[2]\n",
    "        max_nums = max(L[2],L[3])\n",
    "        for i in range(4,len(nums)+1):\n",
    "            L[i] = max(L[i-2],L[i-3]) + nums[i-1]\n",
    "            max_nums = max(max_nums,L[i])\n",
    "        return max_nums\n",
    "\n",
    "if __name__ == '__main__':\n",
    "    nums = [2,7,9,3,1]\n",
    "    result = Solution().rob(nums)\n",
    "    print(result)\n"
   ]
  },
  {
   "cell_type": "code",
   "execution_count": null,
   "outputs": [],
   "source": [],
   "metadata": {
    "collapsed": false
   }
  }
 ],
 "metadata": {
  "kernelspec": {
   "display_name": "Python 3",
   "language": "python",
   "name": "python3"
  },
  "language_info": {
   "codemirror_mode": {
    "name": "ipython",
    "version": 2
   },
   "file_extension": ".py",
   "mimetype": "text/x-python",
   "name": "python",
   "nbconvert_exporter": "python",
   "pygments_lexer": "ipython2",
   "version": "2.7.6"
  }
 },
 "nbformat": 4,
 "nbformat_minor": 0
}
