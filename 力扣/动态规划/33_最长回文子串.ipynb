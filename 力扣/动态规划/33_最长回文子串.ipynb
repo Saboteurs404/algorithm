{
 "cells": [
  {
   "cell_type": "markdown",
   "source": [
    "![](../images/33_1.png)"
   ],
   "metadata": {
    "collapsed": false
   }
  },
  {
   "cell_type": "code",
   "execution_count": 9,
   "metadata": {
    "collapsed": true
   },
   "outputs": [
    {
     "name": "stdout",
     "output_type": "stream",
     "text": [
      "bab\n"
     ]
    }
   ],
   "source": [
    "#TODO: 方法一： 从大到小切片法\n",
    "class Solution1:\n",
    "    def longestPalindrome(self, s: str) -> str:\n",
    "        mx = len(s)\n",
    "\n",
    "        for i in range(mx):\n",
    "            for j in range(i+1):\n",
    "                temp = s[j : mx-i+j]\n",
    "                if temp == temp[::-1]:\n",
    "                    # print(s[j:mx-i+j])\n",
    "                    return s[j:mx-i+j]\n",
    "\n",
    "\n",
    "if __name__ == '__main__':\n",
    "    s = \"babad\"\n",
    "    result = Solution1().longestPalindrome(s)\n",
    "    print(result)"
   ]
  },
  {
   "cell_type": "markdown",
   "source": [
    "![](../images/33_2.png)"
   ],
   "metadata": {
    "collapsed": false
   }
  },
  {
   "cell_type": "code",
   "execution_count": 10,
   "outputs": [
    {
     "name": "stdout",
     "output_type": "stream",
     "text": [
      "bab\n"
     ]
    }
   ],
   "source": [
    "# TODO: 方法二： 动态规划\n",
    "class Solution2:\n",
    "    def longestPalindrome(self, s: str) -> str:\n",
    "        # 从长度为1都是回文串开始\n",
    "        DP = {}\n",
    "        # 初始化参数\n",
    "        m = 1\n",
    "        start = 0\n",
    "        for i in range(len(s)):\n",
    "            DP[(i, i)] = True\n",
    "            if i < len(s) - 1 and s[i] == s[i + 1]:\n",
    "                DP[(i, i+1)] = True\n",
    "                m = 2\n",
    "                start = i\n",
    "            else:\n",
    "                DP[(i, i+1)] = False\n",
    "\n",
    "        for i in range(2, len(s)):\n",
    "            for j in range(len(s)):\n",
    "                if j + i  > len(s) - 1:\n",
    "                    break\n",
    "                # 如果边界值相等，则认为二者是相等的\n",
    "                # print(j+1, j+i-1)\n",
    "                if s[j] == s[j+i] and DP[(j+1, j+i-1)]:\n",
    "                    if i + 1 > m:\n",
    "                        m = i + 1\n",
    "                        start = j\n",
    "                    DP[(j, j+i)] = True\n",
    "                else:\n",
    "                    DP[(j, j+i)] = False\n",
    "        return s[start : start + m]\n",
    "\n",
    "if __name__ == '__main__':\n",
    "    s = \"babad\"\n",
    "    result = Solution2().longestPalindrome(s)\n",
    "    print(result)"
   ],
   "metadata": {
    "collapsed": false
   }
  },
  {
   "cell_type": "markdown",
   "source": [
    "![](../images/32_3.png)"
   ],
   "metadata": {
    "collapsed": false
   }
  },
  {
   "cell_type": "code",
   "execution_count": 11,
   "outputs": [
    {
     "name": "stdout",
     "output_type": "stream",
     "text": [
      "aba\n"
     ]
    }
   ],
   "source": [
    "# TODO: 方法三： 中心扩展算法\n",
    "from collections import defaultdict\n",
    "class Solution3:\n",
    "    def longestPalindrome(self, s: str) -> str:\n",
    "        def center_extend(i, j):\n",
    "            if i > 0 and j < len(s) - 1:\n",
    "                if s[i - 1] == s[j + 1]:\n",
    "                    start, end = center_extend(i-1, j+1)\n",
    "                    return start, end\n",
    "                else:\n",
    "                    return i, j\n",
    "            else:\n",
    "                return i, j\n",
    "\n",
    "        DP = {}\n",
    "        # mx = 0\n",
    "        for i in range(len(s)):\n",
    "            # 长度为1\n",
    "            start, end = center_extend(i, i)\n",
    "            DP[end - start + 1] = start\n",
    "            # 长度为2\n",
    "            if i < len(s) - 1 and s[i] == s[i+1]:\n",
    "                # 存储扩展以后得值\n",
    "                start, end = center_extend(i, i+1)\n",
    "                DP[end - start + 1] = start\n",
    "        if DP:\n",
    "            start = DP[max(DP)]\n",
    "            end = start + max(DP)\n",
    "            return s[start : end]\n",
    "        else:\n",
    "            return s[0]\n",
    "\n",
    "if __name__ == '__main__':\n",
    "    s = \"babad\"\n",
    "    result = Solution3().longestPalindrome(s)\n",
    "    print(result)"
   ],
   "metadata": {
    "collapsed": false
   }
  },
  {
   "cell_type": "markdown",
   "source": [
    "![](../images/33_4.png)"
   ],
   "metadata": {
    "collapsed": false
   }
  },
  {
   "cell_type": "code",
   "execution_count": 11,
   "outputs": [],
   "source": [],
   "metadata": {
    "collapsed": false
   }
  }
 ],
 "metadata": {
  "kernelspec": {
   "display_name": "Python 3",
   "language": "python",
   "name": "python3"
  },
  "language_info": {
   "codemirror_mode": {
    "name": "ipython",
    "version": 2
   },
   "file_extension": ".py",
   "mimetype": "text/x-python",
   "name": "python",
   "nbconvert_exporter": "python",
   "pygments_lexer": "ipython2",
   "version": "2.7.6"
  }
 },
 "nbformat": 4,
 "nbformat_minor": 0
}
