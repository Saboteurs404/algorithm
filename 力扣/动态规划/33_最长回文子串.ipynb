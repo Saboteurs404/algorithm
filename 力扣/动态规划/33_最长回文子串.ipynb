{
 "cells": [
  {
   "cell_type": "markdown",
   "source": [
    "![](../images/33_1.png)"
   ],
   "metadata": {
    "collapsed": false
   }
  },
  {
   "cell_type": "code",
   "execution_count": 2,
   "metadata": {
    "collapsed": true
   },
   "outputs": [
    {
     "name": "stdout",
     "output_type": "stream",
     "text": [
      "bab\n"
     ]
    }
   ],
   "source": [
    "#TODO: 方法一： 切片法\n",
    "class Solution:\n",
    "    def longestPalindrome(self, s: str) -> str:\n",
    "        mx = len(s)\n",
    "\n",
    "        for i in range(mx):\n",
    "            for j in range(i+1):\n",
    "                temp = s[j : mx-i+j]\n",
    "                if temp == temp[::-1]:\n",
    "                    # print(s[j:mx-i+j])\n",
    "                    return s[j:mx-i+j]\n",
    "\n",
    "\n",
    "if __name__ == '__main__':\n",
    "    s = \"babad\"\n",
    "    result = Solution().longestPalindrome(s)\n",
    "    print(result)"
   ]
  },
  {
   "cell_type": "markdown",
   "source": [
    "![](../images/33_2.png)"
   ],
   "metadata": {
    "collapsed": false
   }
  },
  {
   "cell_type": "code",
   "execution_count": 3,
   "outputs": [],
   "source": [
    "# TODO: 方法二： 动态规划\n"
   ],
   "metadata": {
    "collapsed": false
   }
  }
 ],
 "metadata": {
  "kernelspec": {
   "display_name": "Python 3",
   "language": "python",
   "name": "python3"
  },
  "language_info": {
   "codemirror_mode": {
    "name": "ipython",
    "version": 2
   },
   "file_extension": ".py",
   "mimetype": "text/x-python",
   "name": "python",
   "nbconvert_exporter": "python",
   "pygments_lexer": "ipython2",
   "version": "2.7.6"
  }
 },
 "nbformat": 4,
 "nbformat_minor": 0
}
