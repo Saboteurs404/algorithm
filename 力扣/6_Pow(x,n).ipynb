{
 "cells": [
  {
   "cell_type": "markdown",
   "source": [
    "![](./images/6_1.png)"
   ],
   "metadata": {
    "collapsed": false
   }
  },
  {
   "cell_type": "code",
   "execution_count": 1,
   "metadata": {
    "collapsed": true
   },
   "outputs": [
    {
     "name": "stdout",
     "output_type": "stream",
     "text": [
      "1024.0\n"
     ]
    }
   ],
   "source": [
    "class Solution:\n",
    "    def __init__(self):\n",
    "        # 存放对n处理的列表\n",
    "        self.dispose = []\n",
    "        # 存放最终结果\n",
    "        self.result = 1\n",
    "        # 初始化参数\n",
    "        self.x = 1.0\n",
    "        self.n = 1\n",
    "\n",
    "    def myPow(self, x: float, n: int) -> float:\n",
    "        #  边界值处理\n",
    "        if n == 0:\n",
    "            return self.result\n",
    "\n",
    "        # 处理负值\n",
    "        if n < 0:\n",
    "            x = 1/x\n",
    "            n = -n\n",
    "\n",
    "\n",
    "        while n >= 1:\n",
    "            self.dispose.append(n)\n",
    "            if n == 1:\n",
    "                break\n",
    "            n = n // 2\n",
    "        # print(dispose)\n",
    "\n",
    "        # 边界值处理\n",
    "        if len(self.dispose) == 1:\n",
    "            return x\n",
    "        self.result = x\n",
    "        for item in reversed(self.dispose):\n",
    "            if item == max(self.dispose):\n",
    "                if item % 2 == 0:\n",
    "                    return self.result\n",
    "                else:\n",
    "                    return self.result * x\n",
    "            elif item > 1 and item % 2 == 1:\n",
    "                self.result *= x\n",
    "            self.result *= self.result\n",
    "\n",
    "if __name__ == '__main__':\n",
    "    Sol = Solution()\n",
    "    Sol.n = 10\n",
    "    Sol.x = 2.00000\n",
    "    result = Sol.myPow(Sol.x,Sol.n)\n",
    "    print(result)\n",
    "\n",
    "\n",
    "\n",
    "\n"
   ]
  },
  {
   "cell_type": "code",
   "execution_count": null,
   "outputs": [],
   "source": [],
   "metadata": {
    "collapsed": false
   }
  }
 ],
 "metadata": {
  "kernelspec": {
   "display_name": "Python 3",
   "language": "python",
   "name": "python3"
  },
  "language_info": {
   "codemirror_mode": {
    "name": "ipython",
    "version": 2
   },
   "file_extension": ".py",
   "mimetype": "text/x-python",
   "name": "python",
   "nbconvert_exporter": "python",
   "pygments_lexer": "ipython2",
   "version": "2.7.6"
  }
 },
 "nbformat": 4,
 "nbformat_minor": 0
}
