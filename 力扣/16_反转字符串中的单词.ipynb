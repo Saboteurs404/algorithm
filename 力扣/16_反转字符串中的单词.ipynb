{
 "cells": [
  {
   "cell_type": "markdown",
   "source": [
    "![](./images/16_1.png)"
   ],
   "metadata": {
    "collapsed": false
   }
  },
  {
   "cell_type": "code",
   "execution_count": 1,
   "metadata": {
    "collapsed": true
   },
   "outputs": [
    {
     "name": "stdout",
     "output_type": "stream",
     "text": [
      "example good a world hello\n"
     ]
    }
   ],
   "source": [
    "class Solution:\n",
    "    def reverseWords(self, s: str) -> str:\n",
    "        # 首先对字符串进行处理\n",
    "        l = s.split(' ')[::-1]\n",
    "        result_l = list(filter(lambda word:word != '', l))\n",
    "        # print(result_l)\n",
    "        result = ' '.join(result_l)\n",
    "        return result\n",
    "\n",
    "if __name__ == '__main__':\n",
    "    s = \"  hello world  a good   example\"\n",
    "    result = Solution().reverseWords(s)\n",
    "    print(result)"
   ]
  },
  {
   "cell_type": "markdown",
   "source": [
    "![](./images/16_2.png)"
   ],
   "metadata": {
    "collapsed": false
   }
  },
  {
   "cell_type": "code",
   "execution_count": null,
   "outputs": [],
   "source": [],
   "metadata": {
    "collapsed": false
   }
  }
 ],
 "metadata": {
  "kernelspec": {
   "display_name": "Python 3",
   "language": "python",
   "name": "python3"
  },
  "language_info": {
   "codemirror_mode": {
    "name": "ipython",
    "version": 2
   },
   "file_extension": ".py",
   "mimetype": "text/x-python",
   "name": "python",
   "nbconvert_exporter": "python",
   "pygments_lexer": "ipython2",
   "version": "2.7.6"
  }
 },
 "nbformat": 4,
 "nbformat_minor": 0
}
