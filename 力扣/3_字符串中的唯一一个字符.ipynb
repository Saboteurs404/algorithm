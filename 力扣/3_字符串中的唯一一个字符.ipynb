{
 "cells": [
  {
   "cell_type": "markdown",
   "source": [
    "![](./images/3_1.png)"
   ],
   "metadata": {
    "collapsed": false
   }
  },
  {
   "cell_type": "code",
   "execution_count": 2,
   "metadata": {
    "collapsed": true
   },
   "outputs": [
    {
     "name": "stdout",
     "output_type": "stream",
     "text": [
      "2\n"
     ]
    }
   ],
   "source": [
    "class Solution:\n",
    "    def firstUniqChar(self, s: str) -> int:\n",
    "        queue = []\n",
    "        # 重复项\n",
    "        duplicates = set()\n",
    "        for item in s:\n",
    "            if item in queue:\n",
    "                queue.remove(item)\n",
    "                duplicates.add(item)\n",
    "            elif item not in duplicates:\n",
    "                queue.append(item)\n",
    "        if queue:\n",
    "            return s.index(queue[0])\n",
    "        else:\n",
    "            return -1\n",
    "\n",
    "if __name__ == '__main__':\n",
    "    s = 'loveleetcode'\n",
    "    result = Solution().firstUniqChar(s)\n",
    "    print(result)"
   ]
  },
  {
   "cell_type": "code",
   "execution_count": null,
   "outputs": [],
   "source": [],
   "metadata": {
    "collapsed": false
   }
  }
 ],
 "metadata": {
  "kernelspec": {
   "display_name": "Python 3",
   "language": "python",
   "name": "python3"
  },
  "language_info": {
   "codemirror_mode": {
    "name": "ipython",
    "version": 2
   },
   "file_extension": ".py",
   "mimetype": "text/x-python",
   "name": "python",
   "nbconvert_exporter": "python",
   "pygments_lexer": "ipython2",
   "version": "2.7.6"
  }
 },
 "nbformat": 4,
 "nbformat_minor": 0
}
