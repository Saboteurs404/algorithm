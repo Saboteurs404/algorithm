{
 "cells": [
  {
   "cell_type": "markdown",
   "source": [
    "![](./images/4_1.png)"
   ],
   "metadata": {
    "collapsed": false
   }
  },
  {
   "cell_type": "code",
   "execution_count": 6,
   "metadata": {
    "collapsed": true
   },
   "outputs": [
    {
     "name": "stdout",
     "output_type": "stream",
     "text": [
      "[7, 0, 8]\n"
     ]
    }
   ],
   "source": [
    "# Definition for singly-linked list.\n",
    "class ListNode:\n",
    "    def __init__(self, val=0, next=None):\n",
    "        self.val = val\n",
    "        self.next = next\n",
    "\n",
    "class Solution:\n",
    "    def addTwoNumbers(self, l1: ListNode, l2: ListNode) -> ListNode:\n",
    "        k = 0\n",
    "        head = ListNode()\n",
    "        l3 = head\n",
    "        # l3.next = head\n",
    "        while l1 or l2 or k:\n",
    "            if l1:\n",
    "                k += l1.val\n",
    "                l1 = l1.next\n",
    "            if l2:\n",
    "                k += l2.val\n",
    "                l2 = l2.next\n",
    "\n",
    "            l3.next = ListNode(k%10)\n",
    "            l3 = l3.next\n",
    "            k = k//10\n",
    "        return head.next\n",
    "\n",
    "\n",
    "def list_ListNode(nums):\n",
    "    head = ListNode\n",
    "    l = head\n",
    "    for i in nums:\n",
    "        l.next = ListNode(i)\n",
    "        l = l.next\n",
    "    return head.next\n",
    "\n",
    "\n",
    "def query_ListNode(result):\n",
    "    list_result = []\n",
    "    while result:\n",
    "        list_result.append(result.val)\n",
    "        result = result.next\n",
    "    return list_result\n",
    "\n",
    "\n",
    "if __name__ == '__main__':\n",
    "    l1 = list_ListNode([2,4,3])\n",
    "    l2 = list_ListNode([5,6,4])\n",
    "    result =  Solution().addTwoNumbers(l1,l2)\n",
    "    list_result = query_ListNode(result)\n",
    "    print(list_result)\n",
    "\n"
   ]
  },
  {
   "cell_type": "code",
   "execution_count": null,
   "outputs": [],
   "source": [],
   "metadata": {
    "collapsed": false
   }
  }
 ],
 "metadata": {
  "kernelspec": {
   "display_name": "Python 3",
   "language": "python",
   "name": "python3"
  },
  "language_info": {
   "codemirror_mode": {
    "name": "ipython",
    "version": 2
   },
   "file_extension": ".py",
   "mimetype": "text/x-python",
   "name": "python",
   "nbconvert_exporter": "python",
   "pygments_lexer": "ipython2",
   "version": "2.7.6"
  }
 },
 "nbformat": 4,
 "nbformat_minor": 0
}
