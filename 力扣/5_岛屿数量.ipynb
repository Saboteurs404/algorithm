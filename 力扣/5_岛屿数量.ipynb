{
 "cells": [
  {
   "cell_type": "markdown",
   "source": [
    "![](./images/5_1.png)"
   ],
   "metadata": {
    "collapsed": false
   }
  },
  {
   "cell_type": "code",
   "execution_count": 2,
   "metadata": {
    "collapsed": true
   },
   "outputs": [
    {
     "name": "stdout",
     "output_type": "stream",
     "text": [
      "3\n"
     ]
    }
   ],
   "source": [
    "class Solution:\n",
    "    @classmethod\n",
    "    def numIslands(self, grid) -> int:\n",
    "\n",
    "        index = []\n",
    "        current = []\n",
    "        # l = len(grid)\n",
    "        result = 0\n",
    "        # 获取所有陆地坐标\n",
    "        # 纵向\n",
    "        for y in range(len(grid)):\n",
    "            for idx,val in enumerate(grid[y]):\n",
    "                if val == '1':\n",
    "                    index.append((idx,y))\n",
    "        # print(index)\n",
    "\n",
    "        #遍历已经获得的陆地坐标\n",
    "        # 如果index不为空的话\n",
    "        while index:\n",
    "            # 每次选取第一个坐标\n",
    "            current.append(index.pop(0))\n",
    "            # print(f'current:{current}')\n",
    "            # 判断当前岛屿是否全部判断完毕\n",
    "            while current:\n",
    "                x, y = current[0][0],current[0][1]\n",
    "                # print(f'x:{x},y:{y}')\n",
    "                if x-1 > 0 and(x-1, y) in index:\n",
    "                    index.remove((x-1,y))\n",
    "                    current.append((x-1,y))\n",
    "                if (x+1, y) in index:\n",
    "                    index.remove((x+1,y))\n",
    "                    current.append((x+1,y))\n",
    "                if y-1 >0 and (x, y-1) in index:\n",
    "                    index.remove((x,y-1))\n",
    "                    current.append((x,y-1))\n",
    "                if (x, y+1) in index:\n",
    "                    index.remove((x,y+1))\n",
    "                    current.append((x,y+1))\n",
    "                current.remove((x,y))\n",
    "            result += 1\n",
    "        return result\n",
    "\n",
    "if __name__ == '__main__':\n",
    "    grid = [[\"1\",\"1\",\"0\",\"0\",\"0\"],[\"1\",\"1\",\"0\",\"0\",\"0\"],[\"0\",\"0\",\"1\",\"0\",\"0\"],[\"0\",\"0\",\"0\",\"1\",\"1\"]]\n",
    "    result = Solution.numIslands(grid)\n",
    "    print(result)\n",
    "\n",
    "\n"
   ]
  },
  {
   "cell_type": "code",
   "execution_count": null,
   "outputs": [],
   "source": [],
   "metadata": {
    "collapsed": false
   }
  }
 ],
 "metadata": {
  "kernelspec": {
   "display_name": "Python 3",
   "language": "python",
   "name": "python3"
  },
  "language_info": {
   "codemirror_mode": {
    "name": "ipython",
    "version": 2
   },
   "file_extension": ".py",
   "mimetype": "text/x-python",
   "name": "python",
   "nbconvert_exporter": "python",
   "pygments_lexer": "ipython2",
   "version": "2.7.6"
  }
 },
 "nbformat": 4,
 "nbformat_minor": 0
}
