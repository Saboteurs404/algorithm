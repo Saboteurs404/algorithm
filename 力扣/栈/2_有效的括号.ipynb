{
 "cells": [
  {
   "cell_type": "markdown",
   "source": [
    "![](../images/2_1.png)"
   ],
   "metadata": {
    "collapsed": false
   }
  },
  {
   "cell_type": "code",
   "execution_count": 2,
   "metadata": {
    "collapsed": true
   },
   "outputs": [
    {
     "name": "stdout",
     "output_type": "stream",
     "text": [
      "True\n"
     ]
    }
   ],
   "source": [
    "class Solution:\n",
    "    def isValid(self, s: str) -> bool:\n",
    "        match_signal = {'(':')', '{':'}', '[':']'}\n",
    "\n",
    "        # 使用stack保存左括号\n",
    "        stack = []\n",
    "        for item in s:\n",
    "            # print(stack)\n",
    "            if item in match_signal:\n",
    "                stack.append(item)\n",
    "            else:\n",
    "                if stack:\n",
    "                    temp = stack.pop()\n",
    "                    if match_signal[temp] == item:\n",
    "                        continue\n",
    "                    else:\n",
    "                        return False\n",
    "                else:\n",
    "                    return False\n",
    "        if stack:\n",
    "            return False\n",
    "        return True\n",
    "\n",
    "\n",
    "if __name__ == '__main__':\n",
    "    s = \"()[]{}\"\n",
    "    result = Solution().isValid(s)\n",
    "    print(result)\n"
   ]
  },
  {
   "cell_type": "code",
   "execution_count": null,
   "outputs": [],
   "source": [],
   "metadata": {
    "collapsed": false
   }
  }
 ],
 "metadata": {
  "kernelspec": {
   "display_name": "Python 3",
   "language": "python",
   "name": "python3"
  },
  "language_info": {
   "codemirror_mode": {
    "name": "ipython",
    "version": 2
   },
   "file_extension": ".py",
   "mimetype": "text/x-python",
   "name": "python",
   "nbconvert_exporter": "python",
   "pygments_lexer": "ipython2",
   "version": "2.7.6"
  }
 },
 "nbformat": 4,
 "nbformat_minor": 0
}
