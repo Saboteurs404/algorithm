{
 "cells": [
  {
   "cell_type": "markdown",
   "source": [
    "![](../images/23_1.png)"
   ],
   "metadata": {
    "collapsed": false
   }
  },
  {
   "cell_type": "code",
   "execution_count": 1,
   "metadata": {
    "collapsed": true
   },
   "outputs": [
    {
     "name": "stdout",
     "output_type": "stream",
     "text": [
      "acdb\n"
     ]
    }
   ],
   "source": [
    "from collections import Counter\n",
    "class Solution:\n",
    "    def removeDuplicateLetters(self, s: str) -> str:\n",
    "        stack = []\n",
    "        remain_counter = Counter(s)\n",
    "\n",
    "        for c in s:\n",
    "\n",
    "            # print(stack)\n",
    "            # print(c)\n",
    "            if c not in stack:\n",
    "                while stack and c < stack[-1] and  remain_counter[stack[-1]] > 0:\n",
    "                    stack.pop()\n",
    "                stack.append(c)\n",
    "            remain_counter[c] -= 1\n",
    "        return ''.join(stack)\n",
    "\n",
    "if __name__ == '__main__':\n",
    "    s = \"cbacdcbc\"\n",
    "    result = Solution().removeDuplicateLetters(s)\n",
    "    print(result)\n"
   ]
  },
  {
   "cell_type": "markdown",
   "source": [
    "![](../images/23_2.png)"
   ],
   "metadata": {
    "collapsed": false
   }
  },
  {
   "cell_type": "code",
   "execution_count": null,
   "outputs": [],
   "source": [],
   "metadata": {
    "collapsed": false
   }
  }
 ],
 "metadata": {
  "kernelspec": {
   "display_name": "Python 3",
   "language": "python",
   "name": "python3"
  },
  "language_info": {
   "codemirror_mode": {
    "name": "ipython",
    "version": 2
   },
   "file_extension": ".py",
   "mimetype": "text/x-python",
   "name": "python",
   "nbconvert_exporter": "python",
   "pygments_lexer": "ipython2",
   "version": "2.7.6"
  }
 },
 "nbformat": 4,
 "nbformat_minor": 0
}
