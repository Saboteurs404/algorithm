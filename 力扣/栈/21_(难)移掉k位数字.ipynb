{
 "cells": [
  {
   "cell_type": "markdown",
   "source": [
    "![](../images/21_1.png)"
   ],
   "metadata": {
    "collapsed": false
   }
  },
  {
   "cell_type": "code",
   "execution_count": 1,
   "metadata": {
    "collapsed": true
   },
   "outputs": [
    {
     "name": "stdout",
     "output_type": "stream",
     "text": [
      "1219\n"
     ]
    }
   ],
   "source": [
    "class Solution:\n",
    "    def removeKdigits(self, num: str, k: int) -> str:\n",
    "        #先将字符串转换为列表\n",
    "        stack = []\n",
    "        remain = len(num) - k\n",
    "\n",
    "        for digit in num:\n",
    "            while k and stack and stack[-1] > digit:\n",
    "                # 从尾部进行删除\n",
    "                stack.pop()\n",
    "                k -= 1\n",
    "            stack.append(digit)\n",
    "        return ''.join(stack[:remain]).lstrip('0') or '0'\n",
    "\n",
    "if __name__ == '__main__':\n",
    "    num = \"1432219\"\n",
    "    k = 3\n",
    "\n",
    "    result = Solution().removeKdigits(num,k)\n",
    "    print(result)"
   ]
  },
  {
   "cell_type": "code",
   "execution_count": null,
   "outputs": [],
   "source": [],
   "metadata": {
    "collapsed": false
   }
  }
 ],
 "metadata": {
  "kernelspec": {
   "display_name": "Python 3",
   "language": "python",
   "name": "python3"
  },
  "language_info": {
   "codemirror_mode": {
    "name": "ipython",
    "version": 2
   },
   "file_extension": ".py",
   "mimetype": "text/x-python",
   "name": "python",
   "nbconvert_exporter": "python",
   "pygments_lexer": "ipython2",
   "version": "2.7.6"
  }
 },
 "nbformat": 4,
 "nbformat_minor": 0
}
