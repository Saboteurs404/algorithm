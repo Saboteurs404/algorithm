{
 "cells": [
  {
   "cell_type": "markdown",
   "source": [
    "![](./images/15_1.png)"
   ],
   "metadata": {
    "collapsed": false
   }
  },
  {
   "cell_type": "code",
   "execution_count": 1,
   "metadata": {
    "collapsed": true
   },
   "outputs": [
    {
     "name": "stdout",
     "output_type": "stream",
     "text": [
      "3\n"
     ]
    }
   ],
   "source": [
    "from collections import Counter,defaultdict\n",
    "class Solution:\n",
    "    def hIndex(self, citations) -> int:\n",
    "        paritation = Counter(citations)\n",
    "        # 存放大于某值的个数\n",
    "        result = defaultdict(int)\n",
    "        # 边界值处理\n",
    "        if max(citations) == 0:\n",
    "            return 0\n",
    "        for i in range(max(citations),0,-1):\n",
    "            if i == max(citations):\n",
    "                for j in range(i,max(paritation)+1):\n",
    "                    if j in paritation:\n",
    "                        result[i] += paritation[j]\n",
    "            elif i in paritation:\n",
    "                result[i] = result[i+1] + paritation[i]\n",
    "            else:\n",
    "                result[i] = result[i+1]\n",
    "\n",
    "            if i <= result[i]:\n",
    "                    return i\n",
    "\n",
    "if __name__ == '__main__':\n",
    "    citations = [3,0,6,1,5]\n",
    "    result = Solution().hIndex(citations)\n",
    "    print(result)\n",
    "\n",
    "\n",
    "\n"
   ]
  },
  {
   "cell_type": "markdown",
   "source": [
    "![](./images/15_2.png)"
   ],
   "metadata": {
    "collapsed": false
   }
  },
  {
   "cell_type": "code",
   "execution_count": null,
   "outputs": [],
   "source": [],
   "metadata": {
    "collapsed": false
   }
  }
 ],
 "metadata": {
  "kernelspec": {
   "display_name": "Python 3",
   "language": "python",
   "name": "python3"
  },
  "language_info": {
   "codemirror_mode": {
    "name": "ipython",
    "version": 2
   },
   "file_extension": ".py",
   "mimetype": "text/x-python",
   "name": "python",
   "nbconvert_exporter": "python",
   "pygments_lexer": "ipython2",
   "version": "2.7.6"
  }
 },
 "nbformat": 4,
 "nbformat_minor": 0
}
