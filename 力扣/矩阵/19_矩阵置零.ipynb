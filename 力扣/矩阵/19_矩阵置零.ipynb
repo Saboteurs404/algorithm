{
 "cells": [
  {
   "cell_type": "markdown",
   "source": [
    "![](../images/19_1.png)"
   ],
   "metadata": {
    "collapsed": false
   }
  },
  {
   "cell_type": "code",
   "execution_count": 2,
   "metadata": {
    "collapsed": true
   },
   "outputs": [
    {
     "name": "stdout",
     "output_type": "stream",
     "text": [
      "[[0, 0, 0, 0], [0, 4, 5, 0], [0, 3, 1, 0]]\n"
     ]
    }
   ],
   "source": [
    "class Solution:\n",
    "    def setZeroes(self, matrix) -> None:\n",
    "        \"\"\"\n",
    "        Do not return anything, modify matrix in-place instead.\n",
    "        \"\"\"\n",
    "\n",
    "        # 确定原始0的位置\n",
    "        coordinate = set()\n",
    "        for x,nums in enumerate(matrix):\n",
    "            if 0 in nums:\n",
    "                for y,num in enumerate(nums):\n",
    "                    if num == 0:\n",
    "                        coordinate.add((x,y))\n",
    "\n",
    "\n",
    "        for coor in coordinate:\n",
    "            x = coor[0]\n",
    "            y = coor[1]\n",
    "            matrix[x] = [0] * len(matrix[x])\n",
    "            for i in range(len(matrix)):\n",
    "                matrix[i][y] = 0\n",
    "\n",
    "        return matrix\n",
    "\n",
    "if __name__ == '__main__':\n",
    "    matrix = [[0,1,2,0],[3,4,5,2],[1,3,1,5]]\n",
    "    result = Solution().setZeroes(matrix)\n",
    "    print(result)\n",
    "\n",
    "\n",
    "\n",
    "\n",
    "\n"
   ]
  },
  {
   "cell_type": "markdown",
   "source": [
    "![](../images/19_2.png)"
   ],
   "metadata": {
    "collapsed": false
   }
  },
  {
   "cell_type": "code",
   "execution_count": null,
   "outputs": [],
   "source": [],
   "metadata": {
    "collapsed": false
   }
  }
 ],
 "metadata": {
  "kernelspec": {
   "display_name": "Python 3",
   "language": "python",
   "name": "python3"
  },
  "language_info": {
   "codemirror_mode": {
    "name": "ipython",
    "version": 2
   },
   "file_extension": ".py",
   "mimetype": "text/x-python",
   "name": "python",
   "nbconvert_exporter": "python",
   "pygments_lexer": "ipython2",
   "version": "2.7.6"
  }
 },
 "nbformat": 4,
 "nbformat_minor": 0
}
