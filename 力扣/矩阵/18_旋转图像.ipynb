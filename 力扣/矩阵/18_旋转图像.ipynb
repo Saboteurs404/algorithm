{
 "cells": [
  {
   "cell_type": "markdown",
   "source": [
    "![](../images/18_1.png)"
   ],
   "metadata": {
    "collapsed": false
   }
  },
  {
   "cell_type": "code",
   "execution_count": 1,
   "metadata": {
    "collapsed": true
   },
   "outputs": [
    {
     "name": "stdout",
     "output_type": "stream",
     "text": [
      "[[7, 4, 1], [8, 5, 2], [9, 6, 3]]\n"
     ]
    }
   ],
   "source": [
    "class Solution:\n",
    "    def rotate(self, matrix) -> None:\n",
    "        \"\"\"\n",
    "        Do not return anything, modify matrix in-place instead.\n",
    "        \"\"\"\n",
    "        paritition = {}\n",
    "        l = len(matrix) - 1\n",
    "        for i in range(len(matrix)):\n",
    "            for j in range(len(matrix)):\n",
    "                paritition[(j,l-i)] = matrix[j][l-i]\n",
    "                if (i,j) in paritition:\n",
    "                    matrix[j][l-i] = paritition[(i,j)]\n",
    "                else:\n",
    "                    matrix[j][l-i] = matrix[i][j]\n",
    "        return matrix\n",
    "\n",
    "if __name__ == '__main__':\n",
    "    matrix = [[1,2,3],[4,5,6],[7,8,9]]\n",
    "    result = Solution().rotate(matrix)\n",
    "    print(result)"
   ]
  },
  {
   "cell_type": "markdown",
   "source": [
    "![](../images/18_2.png)"
   ],
   "metadata": {
    "collapsed": false
   }
  },
  {
   "cell_type": "code",
   "execution_count": null,
   "outputs": [],
   "source": [],
   "metadata": {
    "collapsed": false
   }
  }
 ],
 "metadata": {
  "kernelspec": {
   "display_name": "Python 3",
   "language": "python",
   "name": "python3"
  },
  "language_info": {
   "codemirror_mode": {
    "name": "ipython",
    "version": 2
   },
   "file_extension": ".py",
   "mimetype": "text/x-python",
   "name": "python",
   "nbconvert_exporter": "python",
   "pygments_lexer": "ipython2",
   "version": "2.7.6"
  }
 },
 "nbformat": 4,
 "nbformat_minor": 0
}
