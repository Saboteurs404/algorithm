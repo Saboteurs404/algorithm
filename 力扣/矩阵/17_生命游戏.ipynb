{
 "cells": [
  {
   "cell_type": "markdown",
   "source": [
    "![](../images/17_1.png)"
   ],
   "metadata": {
    "collapsed": false
   }
  },
  {
   "cell_type": "code",
   "execution_count": 1,
   "metadata": {
    "collapsed": true
   },
   "outputs": [
    {
     "name": "stdout",
     "output_type": "stream",
     "text": [
      "0\n",
      "[[0, 0, 0], [1, 0, 1], [0, 1, 1], [0, 1, 0]]\n"
     ]
    }
   ],
   "source": [
    "from collections import defaultdict\n",
    "class Solution:\n",
    "    def gameOfLife(self, board) -> None:\n",
    "        \"\"\"\n",
    "        Do not return anything, modify board in-place instead.\n",
    "        \"\"\"\n",
    "        current_dict = defaultdict(int)\n",
    "        update_state = board\n",
    "        for j in range(len(board[0])):\n",
    "            for i in range(len(board)):\n",
    "                current_dict[(i,j)] = board[i][j]\n",
    "\n",
    "        for j in range(len(board[0])):\n",
    "            for i in range(len(board)):\n",
    "                sum_nums = current_dict[(i-1,j-1)] + current_dict[(i,j-1)] + current_dict[(i+1,j-1)] + current_dict[(i-1,j)] + current_dict[(i+1,j)] + current_dict[(i-1,j+1)] + current_dict[(i,j+1)] + current_dict[(i+1,j+1)]\n",
    "                if sum_nums < 2 and board[i][j] == 1:\n",
    "                    update_state[i][j] = 0\n",
    "                elif 2 <= sum_nums <= 3 and board[i][j] == 1:\n",
    "                    update_state[i][j] = 1\n",
    "                elif sum_nums > 3 and board[i][j] == 1:\n",
    "                    update_state[i][j] = 0\n",
    "                elif sum_nums == 3 and board[i][j] == 0:\n",
    "                    update_state[i][j] = 1\n",
    "\n",
    "        return update_state\n",
    "\n",
    "if __name__ == '__main__':\n",
    "    board = [[0,1,0],[0,0,1],[1,1,1],[0,0,0]]\n",
    "    result = Solution().gameOfLife(board)\n",
    "    print(result)\n",
    "\n",
    "\n"
   ]
  },
  {
   "cell_type": "markdown",
   "source": [
    "![](../images/17_2.png)"
   ],
   "metadata": {
    "collapsed": false
   }
  },
  {
   "cell_type": "code",
   "execution_count": null,
   "outputs": [],
   "source": [],
   "metadata": {
    "collapsed": false
   }
  }
 ],
 "metadata": {
  "kernelspec": {
   "display_name": "Python 3",
   "language": "python",
   "name": "python3"
  },
  "language_info": {
   "codemirror_mode": {
    "name": "ipython",
    "version": 2
   },
   "file_extension": ".py",
   "mimetype": "text/x-python",
   "name": "python",
   "nbconvert_exporter": "python",
   "pygments_lexer": "ipython2",
   "version": "2.7.6"
  }
 },
 "nbformat": 4,
 "nbformat_minor": 0
}
