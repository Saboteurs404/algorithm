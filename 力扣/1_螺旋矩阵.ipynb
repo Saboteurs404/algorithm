{
 "cells": [
  {
   "cell_type": "markdown",
   "source": [
    "![bendi](./images/1_1.png)"
   ],
   "metadata": {
    "collapsed": false
   }
  },
  {
   "cell_type": "code",
   "execution_count": 3,
   "metadata": {
    "collapsed": true
   },
   "outputs": [
    {
     "name": "stdout",
     "output_type": "stream",
     "text": [
      "3\n",
      "2\n",
      "1\n",
      "0\n",
      "[1, 2, 3, 4, 8, 12, 11, 10, 9, 5]\n",
      "[1, 2, 3, 4, 8, 12, 11, 10, 9, 5, 6, 7]\n"
     ]
    }
   ],
   "source": [
    "class Solution:\n",
    "    def spiralOrder(self, matrix):\n",
    "        # 确定层数\n",
    "        layers = len(matrix)\n",
    "        nums = len(matrix)*len(matrix[0])\n",
    "        # 保存最终结果\n",
    "        result = []\n",
    "        #行处理\n",
    "        left_to_right = 0\n",
    "        upper_to_lower = len(matrix[0])-1\n",
    "        right_to_left = len(matrix)-1\n",
    "        lower_to_upper = 0\n",
    "        while True:\n",
    "            # TODO: 第一行总是从左到右\n",
    "            if upper_to_lower >= lower_to_upper and nums:\n",
    "                for i in range(lower_to_upper,upper_to_lower+1):\n",
    "                    nums -= 1\n",
    "                    result.append(matrix[left_to_right][i])\n",
    "\n",
    "            # 列处理\n",
    "            # TODO:最后一列从上到下\n",
    "            if left_to_right <= right_to_left-1 and nums:\n",
    "                for i in range(left_to_right+1,right_to_left):\n",
    "                    nums -= 1\n",
    "                    result.append(matrix[i][upper_to_lower])\n",
    "\n",
    "\n",
    "            # TODO:最后一行总是从右到左\n",
    "            if upper_to_lower >= lower_to_upper and nums:\n",
    "                for i in range(upper_to_lower,lower_to_upper-1,-1):\n",
    "                    nums -= 1\n",
    "                    # print(i)\n",
    "                    result.append(matrix[right_to_left][i])\n",
    "\n",
    "            # TODO:第一列从下到上\n",
    "            if left_to_right <= right_to_left-1 and nums:\n",
    "                for i in range(right_to_left-1,left_to_right,-1):\n",
    "                    nums -= 1\n",
    "                    result.append(matrix[i][lower_to_upper])\n",
    "\n",
    "            if nums == 0:\n",
    "                break\n",
    "            # print(result)\n",
    "            # 修改位置坐标\n",
    "            left_to_right += 1\n",
    "            right_to_left -= 1\n",
    "            lower_to_upper += 1\n",
    "            upper_to_lower -= 1\n",
    "        return result\n",
    "\n",
    "if __name__ == '__main__':\n",
    "    matrix = [[1,2,3,4],[5,6,7,8],[9,10,11,12]]\n",
    "    Solution = Solution()\n",
    "    result = Solution.spiralOrder(matrix)\n",
    "    print(result)"
   ]
  },
  {
   "cell_type": "code",
   "execution_count": null,
   "outputs": [],
   "source": [],
   "metadata": {
    "collapsed": false
   }
  }
 ],
 "metadata": {
  "kernelspec": {
   "display_name": "Python 3",
   "language": "python",
   "name": "python3"
  },
  "language_info": {
   "codemirror_mode": {
    "name": "ipython",
    "version": 2
   },
   "file_extension": ".py",
   "mimetype": "text/x-python",
   "name": "python",
   "nbconvert_exporter": "python",
   "pygments_lexer": "ipython2",
   "version": "2.7.6"
  }
 },
 "nbformat": 4,
 "nbformat_minor": 0
}
