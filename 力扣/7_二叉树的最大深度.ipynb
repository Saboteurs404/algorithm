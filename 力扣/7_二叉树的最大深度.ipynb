{
 "cells": [
  {
   "cell_type": "markdown",
   "source": [
    "![](./images/7_1.png)"
   ],
   "metadata": {
    "collapsed": false
   }
  },
  {
   "cell_type": "code",
   "execution_count": 16,
   "metadata": {
    "collapsed": true
   },
   "outputs": [
    {
     "name": "stdout",
     "output_type": "stream",
     "text": [
      "left:9\n",
      "right:20\n",
      "left:15\n",
      "right:7\n",
      "3\n",
      "9\n",
      "20\n",
      "15\n",
      "7\n",
      "[3, 9, 20, None, None, 15, 7]\n",
      "3\n"
     ]
    }
   ],
   "source": [
    "# Definition for a binary tree node.\n",
    "class TreeNode:\n",
    "    def __init__(self, val=0, left=None, right=None):\n",
    "        self.val = val\n",
    "        self.left = left\n",
    "        self.right = right\n",
    "\n",
    "    #TODO 用列表创建二叉树\n",
    "    def create_tree(self,node_list):\n",
    "        if not node_list:\n",
    "            return TreeNode(None)\n",
    "        if len(node_list) == 1:\n",
    "            return TreeNode(node_list[0])\n",
    "\n",
    "        result = TreeNode(node_list.pop(0))\n",
    "        head = result\n",
    "\n",
    "        # 使用队列来存储\n",
    "        queue = []\n",
    "        queue.append(result)\n",
    "\n",
    "        while queue:\n",
    "            # 判断是否还有未处理参数\n",
    "            if node_list:\n",
    "                left = node_list.pop(0)\n",
    "                # 将其放入到队列中\n",
    "                if left:\n",
    "                    print(f'left:{left}')\n",
    "                    queue[0].left = TreeNode(left)\n",
    "                    queue.append(queue[0].left)\n",
    "            if node_list:\n",
    "                right = node_list.pop(0)\n",
    "\n",
    "                # 将其放入到队列中\n",
    "                if right:\n",
    "                    print(f'right:{right}')\n",
    "                    queue[0].right = TreeNode(right)\n",
    "                    queue.append(queue[0].right)\n",
    "            queue.pop(0)\n",
    "        return head\n",
    "\n",
    "    #TODO 将二叉树转化为列表\n",
    "    def read_tree(self,root):\n",
    "        # 定义一个队列存储节点\n",
    "        queue = [root]\n",
    "        result = []\n",
    "\n",
    "        while queue:\n",
    "            if queue.count(None) == len(queue):\n",
    "                break\n",
    "            if queue[0]:\n",
    "                result.append(queue[0].val)\n",
    "            else:\n",
    "                result.append(None)\n",
    "                queue.pop(0)\n",
    "                continue\n",
    "\n",
    "            if queue[0].left:\n",
    "                queue.append(queue[0].left)\n",
    "            else:\n",
    "                queue.append(None)\n",
    "            if queue[0].right:\n",
    "                queue.append(queue[0].right)\n",
    "            else:\n",
    "                queue.append(None)\n",
    "            queue.pop(0)\n",
    "        return result\n",
    "\n",
    "\n",
    "#TODO 寻找二叉树的最大深度\n",
    "class Solution:\n",
    "    def __init__(self):\n",
    "        self.result = 0\n",
    "\n",
    "    def maxDepth(self, root) -> int:\n",
    "        if root == None:\n",
    "            return self.result\n",
    "\n",
    "        # 深度deep\n",
    "        def tree(root,deep):\n",
    "            left_deep,right_deep = deep,deep\n",
    "            if root.left:\n",
    "                left_deep = tree(root.left,deep+1)\n",
    "            if root.right:\n",
    "                right_deep = tree(root.right,deep+1)\n",
    "            return max(left_deep,right_deep)\n",
    "\n",
    "        self.result = tree(root,1)\n",
    "        return self.result\n",
    "\n",
    "if __name__ == '__main__':\n",
    "    node_list = [3,9,20,None,None,15,7]\n",
    "    root = TreeNode().create_tree(node_list)\n",
    "    node_list = TreeNode().read_tree(root)\n",
    "    print(node_list)\n",
    "    result = Solution().maxDepth(root)\n",
    "    print(result)\n",
    "\n"
   ]
  },
  {
   "cell_type": "code",
   "execution_count": null,
   "outputs": [],
   "source": [],
   "metadata": {
    "collapsed": false
   }
  }
 ],
 "metadata": {
  "kernelspec": {
   "display_name": "Python 3",
   "language": "python",
   "name": "python3"
  },
  "language_info": {
   "codemirror_mode": {
    "name": "ipython",
    "version": 2
   },
   "file_extension": ".py",
   "mimetype": "text/x-python",
   "name": "python",
   "nbconvert_exporter": "python",
   "pygments_lexer": "ipython2",
   "version": "2.7.6"
  }
 },
 "nbformat": 4,
 "nbformat_minor": 0
}
