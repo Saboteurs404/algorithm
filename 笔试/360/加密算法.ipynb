{
 "cells": [
  {
   "cell_type": "code",
   "execution_count": null,
   "metadata": {
    "collapsed": true
   },
   "outputs": [],
   "source": []
  },
  {
   "cell_type": "code",
   "execution_count": null,
   "outputs": [],
   "source": [
    "class Solution:\n",
    "    def dispose(self,nums, temp):\n",
    "        if not nums:\n",
    "            result.add(temp)\n",
    "            return 1\n",
    "        if len(nums) == 1:\n",
    "            temp += chr(ord('a') + int(nums[0]) - 1)\n",
    "            result.add(temp)\n",
    "        else:\n",
    "            s1 = s2 = temp\n",
    "            s1 += chr(ord('a') + int(nums[0]) - 1)\n",
    "            self.dispose(nums[1:], s1)\n",
    "            if int(nums[:2]) < 27:\n",
    "                s2 += chr(ord('a') + int(nums[:2]) - 1)\n",
    "                self.dispose(nums[2:], s2)\n",
    "\n",
    "if __name__ == '__main__':\n",
    "\n",
    "    n = int(input())\n",
    "    nums = input()\n",
    "    result = set()\n",
    "    Solution().dispose(nums,'')\n",
    "    print(len(result))\n",
    "\n",
    "\n",
    "\n",
    "\n",
    "\n",
    "\n"
   ],
   "metadata": {
    "collapsed": false
   }
  },
  {
   "cell_type": "code",
   "execution_count": 2,
   "outputs": [
    {
     "name": "stdout",
     "output_type": "stream",
     "text": [
      "13\n",
      "12\n",
      "1\n"
     ]
    }
   ],
   "source": [
    "s1 = '1'\n",
    "temp = s1\n",
    "temp1 = s1\n",
    "temp+= '2'\n",
    "temp1 += '3'\n",
    "print(temp1)\n",
    "print(temp)\n",
    "print(s1)"
   ],
   "metadata": {
    "collapsed": false
   }
  },
  {
   "cell_type": "markdown",
   "source": [],
   "metadata": {
    "collapsed": false
   }
  }
 ],
 "metadata": {
  "kernelspec": {
   "display_name": "Python 3",
   "language": "python",
   "name": "python3"
  },
  "language_info": {
   "codemirror_mode": {
    "name": "ipython",
    "version": 2
   },
   "file_extension": ".py",
   "mimetype": "text/x-python",
   "name": "python",
   "nbconvert_exporter": "python",
   "pygments_lexer": "ipython2",
   "version": "2.7.6"
  }
 },
 "nbformat": 4,
 "nbformat_minor": 0
}
